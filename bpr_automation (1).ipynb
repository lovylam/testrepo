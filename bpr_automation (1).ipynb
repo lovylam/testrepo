{
 "cells": [
  {
   "cell_type": "markdown",
   "id": "ca34b752-ead5-4869-a78c-83736f99fae0",
   "metadata": {
    "tags": [],
    "toc-hr-collapsed": true
   },
   "source": [
    "## 0 Set-ups"
   ]
  },
  {
   "cell_type": "markdown",
   "id": "1c963cf4-73b7-4100-80e0-224ce12fef6f",
   "metadata": {},
   "source": [
    "### 0.0 Install (only if needed)"
   ]
  },
  {
   "cell_type": "code",
   "execution_count": null,
   "id": "490c1a3c-7e89-402a-9cfb-f805b38da823",
   "metadata": {
    "tags": []
   },
   "outputs": [],
   "source": [
    "!aws codeartifact login --tool pip --repository aip-python --domain aip-python --domain-owner 569456961653 --region us-east-1\n",
    "%pip install ammpy\n",
    "%pip config unset global.index-url"
   ]
  },
  {
   "cell_type": "markdown",
   "id": "988d437d-18ca-4ee2-a98f-4d596204cc24",
   "metadata": {
    "tags": []
   },
   "source": [
    "### 0.0 Export results (run only if needed)"
   ]
  },
  {
   "cell_type": "code",
   "execution_count": null,
   "id": "e2e24190-2180-41f1-82b6-9a9f00b328b2",
   "metadata": {
    "tags": []
   },
   "outputs": [],
   "source": [
    "# export results folder a ZIP file (this allows to download the whole folder at once)\n",
    "cwd = os.getcwd()\n",
    "os.chdir(cwd + '/results')\n",
    "!tar chvfz results.tar.gz *\n",
    "os.chdir(cwd)"
   ]
  },
  {
   "cell_type": "markdown",
   "id": "41125934-97cf-4c6c-b232-3bc273477a69",
   "metadata": {},
   "source": [
    "### 0.1 Import modules and functions"
   ]
  },
  {
   "cell_type": "code",
   "execution_count": null,
   "id": "c35a91a5-6d97-431e-a860-db391061b06c",
   "metadata": {
    "tags": []
   },
   "outputs": [],
   "source": [
    "import pandas as pd\n",
    "import numpy as np\n",
    "import os\n",
    "from datetime import datetime, timedelta\n",
    "from dateutil.relativedelta import relativedelta\n",
    "from ipywidgets import widgets, Layout\n",
    "import pickle\n",
    "import ammpy\n",
    "from ammpy.s3 import File\n",
    "from ammpy.aap.presentation import Presentation\n",
    "from ammpy.locale import metadata"
   ]
  },
  {
   "cell_type": "markdown",
   "id": "de285ad6-36f1-48a1-8e5d-9676d7c431cd",
   "metadata": {},
   "source": [
    "### 0.2 Import basic data"
   ]
  },
  {
   "cell_type": "code",
   "execution_count": null,
   "id": "9a93f08a-1e18-4959-b301-c833de017918",
   "metadata": {
    "tags": []
   },
   "outputs": [],
   "source": [
    "# build directory if doesn't exist\n",
    "path = './temporary_files'\n",
    "if not os.path.exists(path):\n",
    "    os.mkdir(path)"
   ]
  },
  {
   "cell_type": "code",
   "execution_count": null,
   "id": "069c9284-d8be-4270-a0cb-cfcd33b4ac28",
   "metadata": {
    "tags": []
   },
   "outputs": [],
   "source": [
    "# this imports latest repository of brands onboarded into automation\n",
    "s3_file = File('s3://amm-sagemaker-data/ariju/bpr/bpr_brands.csv')\n",
    "s3_file.download(\"./temporary_files\") # Download the file to a local path, with custom name via second argument"
   ]
  },
  {
   "cell_type": "code",
   "execution_count": null,
   "id": "c0404694-26f1-4cf6-a5ea-b1f7686e1df5",
   "metadata": {
    "tags": []
   },
   "outputs": [],
   "source": [
    "# pandas global options\n",
    "pd.set_option('display.max_rows', None)\n",
    "pd.options.display.float_format = '{:.6f}'.format"
   ]
  },
  {
   "cell_type": "markdown",
   "id": "da1fd01b-e7cd-43a5-83b5-37afd280e57b",
   "metadata": {
    "tags": [],
    "toc-hr-collapsed": true
   },
   "source": [
    "## 1 User input"
   ]
  },
  {
   "cell_type": "code",
   "execution_count": null,
   "id": "7462e3c8-7da2-4e52-aff7-719bb3f4b130",
   "metadata": {
    "tags": []
   },
   "outputs": [],
   "source": [
    "# create empty dic\n",
    "input_dic = {}"
   ]
  },
  {
   "cell_type": "code",
   "execution_count": null,
   "id": "d68e1342-e2af-4888-a808-de16dcd22778",
   "metadata": {
    "tags": []
   },
   "outputs": [],
   "source": [
    "# import data on brands onboarded\n",
    "df_bpr_inputs = pd.read_csv('./temporary_files/bpr_brands.csv')"
   ]
  },
  {
   "cell_type": "markdown",
   "id": "31c06bc2-3f73-4304-b607-475c8115e638",
   "metadata": {},
   "source": [
    "### 1.2 User input"
   ]
  },
  {
   "cell_type": "code",
   "execution_count": null,
   "id": "7b4a7862-7644-4787-b53d-df0f1b440f05",
   "metadata": {
    "tags": []
   },
   "outputs": [],
   "source": [
    "# locale\n",
    "widget_local = widgets.Dropdown(options=sorted(df_bpr_inputs.locale.unique()), description='Locale:', disabled=False); \n",
    "display(widget_local)"
   ]
  },
  {
   "cell_type": "code",
   "execution_count": null,
   "id": "d9ce1810-500a-49c3-a254-322702519af6",
   "metadata": {
    "tags": []
   },
   "outputs": [],
   "source": [
    "widget_brand_name = widgets.Dropdown(options=sorted(df_bpr_inputs[df_bpr_inputs['locale']==widget_local.value].brand_name.unique()), description='Brand Name:', disabled=False); \n",
    "display(widget_brand_name)"
   ]
  },
  {
   "cell_type": "code",
   "execution_count": null,
   "id": "99782457-c897-4d04-9aca-3b00acecf983",
   "metadata": {
    "tags": []
   },
   "outputs": [],
   "source": [
    "mask_1 = df_bpr_inputs['locale']==widget_local.value\n",
    "mask_2 = df_bpr_inputs['brand_name']==widget_brand_name.value\n",
    "widget_browse_node = widgets.Dropdown(options=sorted(df_bpr_inputs[mask_1 & mask_2].node_path.unique()), description='Brand Name:', disabled=False); \n",
    "display(widget_browse_node)"
   ]
  },
  {
   "cell_type": "markdown",
   "id": "cad88073-062d-497d-b8e0-5e58ee9e48d2",
   "metadata": {},
   "source": [
    "### 1.3 Fill input"
   ]
  },
  {
   "cell_type": "code",
   "execution_count": null,
   "id": "3fd0765e-2b9a-49f9-8b28-14dcd0216f3f",
   "metadata": {
    "tags": []
   },
   "outputs": [],
   "source": [
    "# filter input file\n",
    "mask_1 = df_bpr_inputs['locale']==widget_local.value\n",
    "mask_2 = df_bpr_inputs['brand_name']==widget_brand_name.value\n",
    "mask_3 = df_bpr_inputs['node_path']==widget_browse_node.value\n",
    "# populate dic\n",
    "input_dic['local']=widget_local.value\n",
    "input_dic['brand_name']=widget_brand_name.value\n",
    "input_dic['node_path']=widget_browse_node.value\n",
    "input_dic['marketplace_id']=int(df_bpr_inputs[mask_1 & mask_2 & mask_3].marketplace_id.item())\n",
    "input_dic['root_browse_node_id']=int(df_bpr_inputs[mask_1 & mask_2 & mask_3].root_browse_node_id.item())\n",
    "input_dic['browse_node_id']=int(df_bpr_inputs[mask_1 & mask_2 & mask_3].browse_node_id.item())\n",
    "input_dic['category_friendly_name']=df_bpr_inputs[mask_1 & mask_2 & mask_3].category_friendly_name.item()\n",
    "input_dic['category_url']= metadata().loc[widget_local.value,'website'] + '/b?node=' + str(input_dic['browse_node_id'])\n",
    "input_dic['root_browse_node_name'] = input_dic['node_path'].split('/')[0]"
   ]
  },
  {
   "cell_type": "code",
   "execution_count": null,
   "id": "92c4095b-7775-4dc6-8381-48b218e83c55",
   "metadata": {
    "tags": []
   },
   "outputs": [],
   "source": [
    "input_dic"
   ]
  },
  {
   "cell_type": "markdown",
   "id": "ff34c265-061e-4055-8e50-610ec3b2f2e9",
   "metadata": {},
   "source": [
    "### 1.4 Store inputs"
   ]
  },
  {
   "cell_type": "code",
   "execution_count": null,
   "id": "c2fe0d6a-37d9-4ea7-9655-993d102344dc",
   "metadata": {
    "tags": []
   },
   "outputs": [],
   "source": [
    "# build directories\n",
    "path = [\n",
    "    \"./results\",\n",
    "    \"./results/\" + input_dic['local'] + ' ' + input_dic['brand_name'],\n",
    "    \"./results/\" + input_dic['local'] + ' ' + input_dic['brand_name'] + '/'  + input_dic['category_friendly_name'],\n",
    "    \"./results/\" + input_dic['local'] + ' ' + input_dic['brand_name'] + '/'  + input_dic['category_friendly_name'] + '/input'\n",
    "]\n",
    "for p in path:\n",
    "    if not os.path.exists(p):\n",
    "        os.mkdir(p)"
   ]
  },
  {
   "cell_type": "code",
   "execution_count": null,
   "id": "bd3c52bf-e7ac-463f-8282-633de8f4fc64",
   "metadata": {
    "tags": []
   },
   "outputs": [],
   "source": [
    "# save dictionary on local environment\n",
    "import pickle\n",
    "# create a binary pickle file\n",
    "path = \"./results/\" + input_dic['local'] + ' ' + input_dic['brand_name'] + '/'  + input_dic['category_friendly_name'] + '/input'\n",
    "file = 'user_input.pkl'\n",
    "f = open(path + '/' + file,\"wb\")\n",
    "# write the python object (dict) to pickle file\n",
    "pickle.dump(input_dic,f)\n",
    "# close file\n",
    "f.close()"
   ]
  },
  {
   "cell_type": "markdown",
   "id": "f93d6ef0-a40f-433b-ada5-de19a1809baa",
   "metadata": {
    "tags": [],
    "toc-hr-collapsed": true
   },
   "source": [
    "## 2 Import datasets"
   ]
  },
  {
   "cell_type": "code",
   "execution_count": null,
   "id": "e2880ee0-5c62-4bdd-ad3f-14ad9a3b141b",
   "metadata": {
    "tags": []
   },
   "outputs": [],
   "source": [
    "# import (if exists) a file stored with all user input\n",
    "import pickle\n",
    "path = \"./results/\" + input_dic['local'] + ' ' + input_dic['brand_name'] + '/'  + input_dic['category_friendly_name'] + '/input'\n",
    "file = 'user_input.pkl'\n",
    "if os.path.exists(path + '/' + file):\n",
    "    file_to_read = open(path + '/' + file, \"rb\")\n",
    "    input_dic = pickle.load(file_to_read)"
   ]
  },
  {
   "cell_type": "markdown",
   "id": "ff5f57d7-122b-425c-802d-4092626c2657",
   "metadata": {},
   "source": [
    "### 2.1 Monthly data"
   ]
  },
  {
   "cell_type": "code",
   "execution_count": null,
   "id": "a042a53e-2166-45ac-ae4b-91de1412958e",
   "metadata": {
    "tags": []
   },
   "outputs": [],
   "source": [
    "# import from\n",
    "import_path = 's3://amm-sagemaker-data/ariju/bpr/' + str(input_dic['marketplace_id'])\n",
    "import_file = 'monthly_data000'\n",
    "\n",
    "# import from S3\n",
    "s3_file = File(import_path + '/' + import_file)\n",
    "s3_file.download(\"./temporary_files\") # Download the file to a local path, with custom name via second argument"
   ]
  },
  {
   "cell_type": "code",
   "execution_count": null,
   "id": "c1cfdf40-a2e8-4338-9da3-b3da3c6f389e",
   "metadata": {
    "tags": []
   },
   "outputs": [],
   "source": [
    "# import from\n",
    "df = pd.read_csv('./temporary_files/monthly_data000')\n",
    "\n",
    "cond = df['report_brand'] == input_dic['brand_name']\n",
    "cond_2 = df['report_root_browse_node_id'] == input_dic['root_browse_node_id']\n",
    "cond_3 = df['report_browse_node_id'] == input_dic['browse_node_id']\n",
    "df = df[cond & cond_2 & cond_3]\n",
    "\n",
    "# export to\n",
    "export_path = \"./results/\" + input_dic['local'] + ' ' + input_dic['brand_name'] + '/'  + input_dic['category_friendly_name'] + '/input'\n",
    "export_file = 'data_monthly.csv'\n",
    "df.to_csv(export_path + '/' + export_file, index=False)\n",
    "del df"
   ]
  },
  {
   "cell_type": "markdown",
   "id": "014c762d-ccbf-45d0-b016-a80267da2be2",
   "metadata": {},
   "source": [
    "### 2.2 Weekly data"
   ]
  },
  {
   "cell_type": "code",
   "execution_count": null,
   "id": "37d81b80-19fd-4a82-b8a2-dd21c1928d19",
   "metadata": {
    "tags": []
   },
   "outputs": [],
   "source": [
    "# import from\n",
    "import_path = 's3://amm-sagemaker-data/ariju/bpr/' + str(input_dic['marketplace_id'])\n",
    "import_file = 'weekly_data000'\n",
    "\n",
    "# import from S3\n",
    "s3_file = File(import_path + '/' + import_file)\n",
    "s3_file.download(\"./temporary_files\") # Download the file to a local path, with custom name via second argument"
   ]
  },
  {
   "cell_type": "code",
   "execution_count": null,
   "id": "49f77e1c-bdf3-4992-ba27-46dd2ce26bc4",
   "metadata": {
    "tags": []
   },
   "outputs": [],
   "source": [
    "# import from\n",
    "df = pd.read_csv('./temporary_files/weekly_data000')\n",
    "\n",
    "cond = df['report_brand'] == input_dic['brand_name']\n",
    "cond_2 = df['report_root_browse_node_id'] == input_dic['root_browse_node_id']\n",
    "cond_3 = df['report_browse_node_id'] == input_dic['browse_node_id']\n",
    "df = df[cond & cond_2 & cond_3]\n",
    "\n",
    "# export to\n",
    "export_path = \"./results/\" + input_dic['local'] + ' ' + input_dic['brand_name'] + '/'  + input_dic['category_friendly_name'] + '/input'\n",
    "export_file = 'data_weekly.csv'\n",
    "df.to_csv(export_path + '/' + export_file, index=False)\n",
    "del df"
   ]
  },
  {
   "cell_type": "markdown",
   "id": "41a76064-09a7-4c4f-9933-9b6adabe201a",
   "metadata": {
    "tags": [],
    "toc-hr-collapsed": true
   },
   "source": [
    "## 3 Data manipulation"
   ]
  },
  {
   "cell_type": "code",
   "execution_count": null,
   "id": "a0f07fa7-6f22-48ec-acfc-e6856c985a40",
   "metadata": {
    "tags": []
   },
   "outputs": [],
   "source": [
    "# Create an empty dic to store results\n",
    "output = {}"
   ]
  },
  {
   "cell_type": "markdown",
   "id": "d9432e70-dbdd-4d37-90c1-7bbd79fe89b1",
   "metadata": {},
   "source": [
    "### 3.1 Import data "
   ]
  },
  {
   "cell_type": "code",
   "execution_count": null,
   "id": "ceb30fe2-78e2-4dcb-80b1-5f98a75f3495",
   "metadata": {
    "tags": []
   },
   "outputs": [],
   "source": [
    "# import (if exists) a file stored with all user input\n",
    "import pickle\n",
    "path = \"./results/\" + input_dic['local'] + ' ' + input_dic['brand_name'] + '/'  + input_dic['category_friendly_name'] + '/input'\n",
    "file = 'user_input.pkl'\n",
    "if os.path.exists(path + '/' + file):\n",
    "    file_to_read = open(path + '/' + file, \"rb\")\n",
    "    input_dic = pickle.load(file_to_read)"
   ]
  },
  {
   "cell_type": "code",
   "execution_count": null,
   "id": "45958c55-5e59-4cb9-9d9b-4d2cfb13892b",
   "metadata": {
    "tags": []
   },
   "outputs": [],
   "source": [
    "# build directories\n",
    "path = [\n",
    "    \"./results\",\n",
    "    \"./results/\" + input_dic['local'] + ' ' + input_dic['brand_name'],\n",
    "    \"./results/\" + input_dic['local'] + ' ' + input_dic['brand_name'] + '/'  + input_dic['category_friendly_name'],\n",
    "    \"./results/\" + input_dic['local'] + ' ' + input_dic['brand_name'] + '/'  + input_dic['category_friendly_name'] + '/output'\n",
    "]\n",
    "for p in path:\n",
    "    if not os.path.exists(p):\n",
    "        os.mkdir(p)"
   ]
  },
  {
   "cell_type": "code",
   "execution_count": null,
   "id": "96fcd019-022c-4436-b0aa-68bb59715265",
   "metadata": {
    "tags": []
   },
   "outputs": [],
   "source": [
    "# import file: monthly\n",
    "import_path = \"./results/\" + input_dic['local'] + ' ' + input_dic['brand_name'] + '/'  + input_dic['category_friendly_name'] + '/input'\n",
    "import_file = 'data_monthly.csv'\n",
    "df_monthly = pd.read_csv(import_path + '/' + import_file)\n",
    "df_monthly['year'] = df_monthly['year'].astype(int)\n",
    "df_monthly['month_starting_date'] = pd.to_datetime(df_monthly['month_starting_date'])\n",
    "df_monthly.dtypes"
   ]
  },
  {
   "cell_type": "code",
   "execution_count": null,
   "id": "df45ab54-3264-46a9-a11c-2a5229d3958a",
   "metadata": {
    "tags": []
   },
   "outputs": [],
   "source": [
    "# import file: monthly\n",
    "import_path = \"./results/\" + input_dic['local'] + ' ' + input_dic['brand_name'] + '/'  + input_dic['category_friendly_name'] + '/input'\n",
    "import_file = 'data_weekly.csv'\n",
    "df_weekly = pd.read_csv(import_path + '/' + import_file)\n",
    "df_weekly['week_starting_date'] = pd.to_datetime(df_weekly['week_starting_date'])\n",
    "df_weekly.dtypes"
   ]
  },
  {
   "cell_type": "markdown",
   "id": "184c154a-47dd-4f5d-b0fe-2b8cc8799e30",
   "metadata": {
    "tags": []
   },
   "source": [
    "### 3.2 Manipulated Tables\n",
    "\n",
    "Period: T12M vs P12M  \n",
    "Quarterly  \n",
    "Monthly  \n",
    "Weekly"
   ]
  },
  {
   "cell_type": "markdown",
   "id": "1e641d16-4e5b-49fe-badd-6fb2c4c8bbed",
   "metadata": {},
   "source": [
    "#### Period: T12M vs P12M"
   ]
  },
  {
   "cell_type": "code",
   "execution_count": null,
   "id": "3eb1e0ad-ae89-42fd-a78b-e7cfe57c701d",
   "metadata": {
    "tags": []
   },
   "outputs": [],
   "source": [
    "df = df_monthly\\\n",
    "    .groupby('period')\\\n",
    "    .agg({\n",
    "        # brand\n",
    "        'brand_ordered_revenue':'sum',\n",
    "        'brand_ordered_quantity':'sum',\n",
    "        'brand_sns_ordered_revenue':'sum',\n",
    "        'brand_sns_quantity':'sum',\n",
    "        'brand_glance_views':'sum',\n",
    "        'brand_total_search_impressions':'sum',\n",
    "        'brand_total_display_impressions':'sum',\n",
    "        'brand_total_impressions':'sum',\n",
    "        # peer set\n",
    "        'peer_set_ordered_revenue':'sum',\n",
    "        'peer_set_ordered_quantity':'sum',\n",
    "        'peer_set_sns_ordered_revenue':'sum',\n",
    "        'peer_set_sns_quantity':'sum',\n",
    "        'peer_set_glance_views':'sum',\n",
    "        'peer_set_total_search_impressions':'sum',\n",
    "        'peer_set_total_display_impressions':'sum',\n",
    "        'peer_set_total_impressions':'sum'\n",
    "    })\\\n",
    "    .sort_index()\n",
    "\n",
    "df"
   ]
  },
  {
   "cell_type": "code",
   "execution_count": null,
   "id": "59e90fb7-868f-4327-a1f4-d34d127b556b",
   "metadata": {
    "tags": []
   },
   "outputs": [],
   "source": [
    "# calculate deltas (%)\n",
    "df['brand_revenue_delta'] = df['brand_ordered_revenue'] / df['brand_ordered_revenue'].shift() - 1\n",
    "df['brand_quantity_delta'] = df['brand_ordered_quantity'] / df['brand_ordered_quantity'].shift() - 1\n",
    "df['brand_sns_revenue_delta'] = df['brand_sns_ordered_revenue'] / df['brand_sns_ordered_revenue'].shift() - 1\n",
    "df['brand_sns_quantity_delta'] = df['brand_sns_quantity'] / df['brand_sns_quantity'].shift() - 1\n",
    "df['brand_gv_delta'] = df['brand_glance_views'] / df['brand_glance_views'].shift() - 1\n",
    "df['brand_search_imp_delta'] = df['brand_total_search_impressions'] / df['brand_total_search_impressions'].shift() - 1\n",
    "df['brand_display_imp_delta'] = df['brand_total_display_impressions'] / df['brand_total_display_impressions'].shift() - 1\n",
    "df['brand_total_imp_delta'] = df['brand_total_impressions'] / df['brand_total_impressions'].shift() - 1\n",
    "\n",
    "df['peer_set_revenue_delta'] = df['peer_set_ordered_revenue'] / df['peer_set_ordered_revenue'].shift() - 1\n",
    "df['peer_set_quantity_delta'] = df['peer_set_ordered_quantity'] / df['peer_set_ordered_quantity'].shift() - 1\n",
    "df['peer_set_sns_revenue_delta'] = df['peer_set_sns_ordered_revenue'] / df['peer_set_sns_ordered_revenue'].shift() - 1\n",
    "df['peer_set_sns_quantity_delta'] = df['peer_set_sns_quantity'] / df['peer_set_sns_quantity'].shift() - 1\n",
    "df['peer_set_gv_delta'] = df['peer_set_glance_views'] / df['peer_set_glance_views'].shift() - 1\n",
    "df['peer_set_search_imp_delta'] = df['peer_set_total_search_impressions'] / df['peer_set_total_search_impressions'].shift() - 1\n",
    "df['peer_set_display_imp_delta'] = df['peer_set_total_display_impressions'] / df['peer_set_total_display_impressions'].shift() - 1\n",
    "df['peer_set_total_imp_delta'] = df['peer_set_total_impressions'] / df['peer_set_total_impressions'].shift() - 1\n",
    "\n",
    "df"
   ]
  },
  {
   "cell_type": "code",
   "execution_count": null,
   "id": "940d64d8-a3df-4d04-850e-15a5879f08e4",
   "metadata": {
    "tags": []
   },
   "outputs": [],
   "source": [
    "# calculate shares\n",
    "df['brand_revenue_share'] = (df.brand_ordered_revenue / df.peer_set_ordered_revenue).round(3)\n",
    "df['brand_quantity_share'] = (df.brand_ordered_quantity / df.peer_set_ordered_quantity).round(3)\n",
    "df['brand_sns_revenue_share'] = (df.brand_sns_ordered_revenue / df.peer_set_sns_ordered_revenue).round(3)\n",
    "df['brand_sns_quantity_share'] = (df.brand_sns_quantity / df.peer_set_sns_quantity).round(3)\n",
    "df['brand_gv_share'] = (df.brand_glance_views / df.peer_set_glance_views).round(3)\n",
    "df['brand_search_sov'] = (df.brand_total_search_impressions / df.peer_set_total_search_impressions).round(3)\n",
    "df['brand_display_sov'] = (df.brand_total_display_impressions / df.peer_set_total_display_impressions).round(3)\n",
    "df['brand_total_sov'] = (df.brand_total_impressions / df.peer_set_total_impressions).round(3)\n",
    "\n",
    "# calculate CVR\n",
    "df['brand_cvr'] = (df.brand_ordered_quantity - df.brand_sns_quantity) / df.brand_glance_views\n",
    "df['peer_set_cvr'] = (df.peer_set_ordered_quantity - df.peer_set_sns_quantity) / df.peer_set_glance_views\n",
    "\n",
    "df"
   ]
  },
  {
   "cell_type": "code",
   "execution_count": null,
   "id": "c1ff2db3-bb10-4cc4-8ca2-5d658c11b531",
   "metadata": {
    "tags": []
   },
   "outputs": [],
   "source": [
    "# calculate share deltas (%)\n",
    "df['brand_revenue_share_delta'] = df['brand_revenue_share'] / df['brand_revenue_share'].shift() - 1\n",
    "df['brand_quantity_share_delta'] = df['brand_quantity_share'] / df['brand_quantity_share'].shift() - 1\n",
    "df['brand_sns_revenue_share_delta'] = df['brand_sns_revenue_share'] / df['brand_sns_revenue_share'].shift() - 1\n",
    "df['brand_sns_quantity_share_delta'] = df['brand_sns_quantity_share'] / df['brand_sns_quantity_share'].shift() - 1\n",
    "df['brand_gv_share_delta'] = df['brand_gv_share'] / df['brand_gv_share'].shift() - 1\n",
    "df['brand_search_sov_delta'] = df['brand_search_sov'] / df['brand_search_sov'].shift() - 1\n",
    "df['brand_display_sov_delta'] = df['brand_display_sov'] / df['brand_display_sov'].shift() - 1\n",
    "df['brand_total_sov_delta'] = df['brand_total_sov'] / df['brand_total_sov'].shift() - 1\n",
    "\n",
    "df"
   ]
  },
  {
   "cell_type": "code",
   "execution_count": null,
   "id": "e3e4b114-6c01-4fa8-bdc3-9a4a7ab327e2",
   "metadata": {
    "tags": []
   },
   "outputs": [],
   "source": [
    "# calculate indexed deltas\n",
    "df['brand_revenue_share_delta_index'] = df['brand_revenue_share'] / df['brand_revenue_share'].shift() * 100\n",
    "df['brand_quantity_share_delta_index'] = df['brand_quantity_share'] / df['brand_quantity_share'].shift() * 100\n",
    "df['brand_sns_revenue_share_delta_index'] = df['brand_sns_revenue_share'] / df['brand_sns_revenue_share'].shift() * 100\n",
    "df['brand_sns_quantity_share_delta_index'] = df['brand_sns_quantity_share'] / df['brand_sns_quantity_share'].shift() * 100\n",
    "df['brand_gv_share_delta_index'] = df['brand_gv_share'] / df['brand_gv_share'].shift() * 100\n",
    "df['brand_search_sov_delta_index'] = df['brand_search_sov'] / df['brand_search_sov'].shift() * 100\n",
    "df['brand_display_sov_delta_index'] = df['brand_display_sov'] / df['brand_display_sov'].shift() * 100\n",
    "df['brand_total_sov_delta_index'] = df['brand_total_sov'] / df['brand_total_sov'].shift() * 100\n",
    "# indexed cvr\n",
    "df['brand_cvr_index'] = df['brand_cvr'] / df['peer_set_cvr'] * 100\n",
    "\n",
    "# SnS contribution\n",
    "df['brand_sns_revenue_contribution'] = df['brand_sns_ordered_revenue'] / df['brand_ordered_revenue'] * 100\n",
    "df['peer_set_sns_revenue_contribution'] = df['peer_set_sns_ordered_revenue'] / df['peer_set_ordered_revenue'] * 100\n",
    "\n",
    "df"
   ]
  },
  {
   "cell_type": "code",
   "execution_count": null,
   "id": "51477c75-0fb3-4071-98ff-0a0eaeab613d",
   "metadata": {
    "tags": []
   },
   "outputs": [],
   "source": [
    "# reset index\n",
    "df = df.reset_index()\n",
    "df"
   ]
  },
  {
   "cell_type": "code",
   "execution_count": null,
   "id": "b7ffc9d7-b286-4c98-9ab0-41fc9fe40a21",
   "metadata": {
    "tags": []
   },
   "outputs": [],
   "source": [
    "# export results\n",
    "export_path = \"./results/\" + input_dic['local'] + ' ' + input_dic['brand_name'] + '/'  + input_dic['category_friendly_name'] + '/output'\n",
    "export_file = 'output_period.csv'\n",
    "df.to_csv(export_path + '/' + export_file, index=False)\n",
    "del df"
   ]
  },
  {
   "cell_type": "markdown",
   "id": "17483712-3a1e-4b3f-9a02-4228aac06d45",
   "metadata": {},
   "source": [
    "#### Quarterly"
   ]
  },
  {
   "cell_type": "code",
   "execution_count": null,
   "id": "b6d8df73-f30a-45d1-aa6b-ed84c1097afa",
   "metadata": {
    "tags": []
   },
   "outputs": [],
   "source": [
    "# if last quarter is not over\n",
    "current_quarter = df_monthly['month_starting_date'].max().quarter\n",
    "current_quarter = 'Q' + str(current_quarter)\n",
    "current_year = df_monthly['month_starting_date'].max().year\n",
    "\n",
    "if not int(df_monthly['month_starting_date'].max().strftime(\"%m\")) in [3,6,9,12]:\n",
    "    current_quarter_updated = current_quarter + ' QTD'\n",
    "else:\n",
    "    current_quarter_updated = current_quarter"
   ]
  },
  {
   "cell_type": "code",
   "execution_count": null,
   "id": "7cdff2fa-13c9-4414-b98c-c5a5c01a2266",
   "metadata": {
    "tags": []
   },
   "outputs": [],
   "source": [
    "df = df_monthly\\\n",
    "    .groupby(['year','quarter'])\\\n",
    "    .agg({\n",
    "        # brand\n",
    "        'brand_ordered_revenue':'sum',\n",
    "        'brand_ordered_quantity':'sum',\n",
    "        'brand_sns_ordered_revenue':'sum',\n",
    "        'brand_sns_quantity':'sum',\n",
    "        'brand_glance_views':'sum',\n",
    "        'brand_total_search_impressions':'sum',\n",
    "        'brand_total_display_impressions':'sum',\n",
    "        'brand_total_impressions':'sum',\n",
    "        # peer set\n",
    "        'peer_set_ordered_revenue':'sum',\n",
    "        'peer_set_ordered_quantity':'sum',\n",
    "        'peer_set_sns_ordered_revenue':'sum',\n",
    "        'peer_set_sns_quantity':'sum',\n",
    "        'peer_set_glance_views':'sum',\n",
    "        'peer_set_total_search_impressions':'sum',\n",
    "        'peer_set_total_display_impressions':'sum',\n",
    "        'peer_set_total_impressions':'sum'\n",
    "    })\\\n",
    "    .sort_index()\n",
    "\n",
    "df.tail()"
   ]
  },
  {
   "cell_type": "code",
   "execution_count": null,
   "id": "b472bc7d-ea02-417e-900c-34c1128956bb",
   "metadata": {
    "tags": []
   },
   "outputs": [],
   "source": [
    "# calculate deltas (%)\n",
    "# df['brand_revenue_delta'] = df['brand_ordered_revenue'] / df['brand_ordered_revenue'].shift() - 1\n",
    "# df['brand_quantity_delta'] = df['brand_ordered_quantity'] / df['brand_ordered_quantity'].shift() - 1\n",
    "# df['brand_sns_revenue_delta'] = df['brand_sns_ordered_revenue'] / df['brand_sns_ordered_revenue'].shift() - 1\n",
    "# df['brand_sns_quantity_delta'] = df['brand_sns_quantity'] / df['brand_sns_quantity'].shift() - 1\n",
    "# df['brand_gv_delta'] = df['brand_glance_views'] / df['brand_glance_views'].shift() - 1\n",
    "# df['brand_search_imp_delta'] = df['brand_total_search_impressions'] / df['brand_total_search_impressions'].shift() - 1\n",
    "# df['brand_display_imp_delta'] = df['brand_total_display_impressions'] / df['brand_total_display_impressions'].shift() - 1\n",
    "# df['brand_total_imp_delta'] = df['brand_total_impressions'] / df['brand_total_impressions'].shift() - 1\n",
    "\n",
    "# df['peer_set_revenue_delta'] = df['peer_set_ordered_revenue'] / df['peer_set_ordered_revenue'].shift() - 1\n",
    "# df['peer_set_quantity_delta'] = df['peer_set_ordered_quantity'] / df['peer_set_ordered_quantity'].shift() - 1\n",
    "# df['peer_set_sns_revenue_delta'] = df['peer_set_sns_ordered_revenue'] / df['peer_set_sns_ordered_revenue'].shift() - 1\n",
    "# df['peer_set_sns_quantity_delta'] = df['peer_set_sns_quantity'] / df['peer_set_sns_quantity'].shift() - 1\n",
    "# df['peer_set_gv_delta'] = df['peer_set_glance_views'] / df['peer_set_glance_views'].shift() - 1\n",
    "# df['peer_set_search_imp_delta'] = df['peer_set_total_search_impressions'] / df['peer_set_total_search_impressions'].shift() - 1\n",
    "# df['peer_set_display_imp_delta'] = df['peer_set_total_display_impressions'] / df['peer_set_total_display_impressions'].shift() - 1\n",
    "# df['peer_set_total_imp_delta'] = df['peer_set_total_impressions'] / df['peer_set_total_impressions'].shift() - 1\n",
    "\n",
    "# df.tail()"
   ]
  },
  {
   "cell_type": "code",
   "execution_count": null,
   "id": "d2d9d3a9-b088-4f72-ba24-54e33c44b23a",
   "metadata": {
    "tags": []
   },
   "outputs": [],
   "source": [
    "# calculate shares\n",
    "df['brand_revenue_share'] = (df.brand_ordered_revenue / df.peer_set_ordered_revenue).round(3)\n",
    "df['brand_quantity_share'] = (df.brand_ordered_quantity / df.peer_set_ordered_quantity).round(3)\n",
    "df['brand_sns_revenue_share'] = (df.brand_sns_ordered_revenue / df.peer_set_sns_ordered_revenue).round(3)\n",
    "df['brand_sns_quantity_share'] = (df.brand_sns_quantity / df.peer_set_sns_ordered_revenue).round(3)\n",
    "df['brand_gv_share'] = (df.brand_glance_views / df.peer_set_glance_views).round(3)\n",
    "df['brand_search_sov'] = (df.brand_total_search_impressions / df.peer_set_total_search_impressions).round(3)\n",
    "df['brand_display_sov'] = (df.brand_total_display_impressions / df.peer_set_total_display_impressions).round(3)\n",
    "df['brand_total_sov'] = (df.brand_total_impressions / df.peer_set_total_impressions).round(3)\n",
    "\n",
    "# calculate CVR\n",
    "df['brand_cvr'] = (df.brand_ordered_quantity - df.brand_sns_quantity) / df.brand_glance_views\n",
    "df['peer_set_cvr'] = (df.peer_set_ordered_quantity - df.peer_set_sns_quantity) / df.peer_set_glance_views\n",
    "\n",
    "df.tail()"
   ]
  },
  {
   "cell_type": "code",
   "execution_count": null,
   "id": "cbaf1fea-e343-4f9c-ae99-89f808f744c4",
   "metadata": {
    "tags": []
   },
   "outputs": [],
   "source": [
    "# calculate share deltas (%)\n",
    "# df['brand_revenue_share_delta'] = df['brand_revenue_share'] / df['brand_revenue_share'].shift() - 1\n",
    "# df['brand_quantity_share_delta'] = df['brand_quantity_share'] / df['brand_quantity_share'].shift() - 1\n",
    "# df['brand_sns_revenue_share_delta'] = df['brand_sns_revenue_share'] / df['brand_sns_revenue_share'].shift() - 1\n",
    "# df['brand_sns_quantity_share_delta'] = df['brand_sns_quantity_share'] / df['brand_sns_quantity_share'].shift() - 1\n",
    "# df['brand_gv_share_delta'] = df['brand_gv_share'] / df['brand_gv_share'].shift() - 1\n",
    "# df['brand_search_sov_delta'] = df['brand_search_sov'] / df['brand_search_sov'].shift() - 1\n",
    "# df['brand_display_sov_delta'] = df['brand_display_sov'] / df['brand_display_sov'].shift() - 1\n",
    "# df['brand_total_sov_delta'] = df['brand_total_sov'] / df['brand_total_sov'].shift() - 1\n",
    "\n",
    "# df.tail()"
   ]
  },
  {
   "cell_type": "code",
   "execution_count": null,
   "id": "7a5ab284-72e5-4675-b9ff-aa95d516f2b6",
   "metadata": {
    "tags": []
   },
   "outputs": [],
   "source": [
    "# calculate indexed deltas\n",
    "# shares are indexed vs average values during last 4 quarters\n",
    "df['brand_revenue_share_delta_index'] = df['brand_revenue_share'] / df['brand_revenue_share'].iloc[-4:].mean() * 100\n",
    "df['brand_quantity_share_delta_index'] = df['brand_quantity_share'] / df['brand_quantity_share'].iloc[-4:].mean() * 100\n",
    "df['brand_sns_revenue_share_delta_index'] = df['brand_sns_revenue_share'] / df['brand_sns_revenue_share'].iloc[-4:].mean() * 100\n",
    "df['brand_sns_quantity_share_delta_index'] = df['brand_sns_quantity_share'] / df['brand_sns_quantity_share'].iloc[-4:].mean() * 100\n",
    "df['brand_gv_share_delta_index'] = df['brand_gv_share'] / df['brand_gv_share'].iloc[-4:].mean() * 100\n",
    "df['brand_search_sov_delta_index'] = df['brand_search_sov'] / df['brand_search_sov'].iloc[-4:].mean() * 100\n",
    "df['brand_display_sov_delta_index'] = df['brand_display_sov'] / df['brand_display_sov'].iloc[-4:].mean() * 100\n",
    "df['brand_total_sov_delta_index'] = df['brand_total_sov'] / df['brand_total_sov'].iloc[-4:].mean() * 100\n",
    "\n",
    "# indexed cvr\n",
    "df['brand_cvr_index'] = df['brand_cvr'] / df['peer_set_cvr'] * 100\n",
    "\n",
    "# SnS contribution\n",
    "df['brand_sns_revenue_contribution'] = df['brand_sns_ordered_revenue'] / df['brand_ordered_revenue'] * 100\n",
    "df['peer_set_sns_revenue_contribution'] = df['peer_set_sns_ordered_revenue'] / df['peer_set_ordered_revenue'] * 100\n",
    "\n",
    "df.tail()"
   ]
  },
  {
   "cell_type": "code",
   "execution_count": null,
   "id": "d0f380d4-cdc9-4e68-9bf9-a43fce2fdced",
   "metadata": {
    "tags": []
   },
   "outputs": [],
   "source": [
    "# reset index\n",
    "df = df.reset_index()\n",
    "df = df.fillna(0)\n",
    "\n",
    "# change last quarter (if needed) to QTD\n",
    "mask_1 = df.year == current_year\n",
    "mask_2 = df.quarter.str[1] == current_quarter[1]\n",
    "df.loc[mask_1 & mask_2,'quarter'] = current_quarter_updated\n",
    "\n",
    "df"
   ]
  },
  {
   "cell_type": "code",
   "execution_count": null,
   "id": "cb60ec67-d3a6-4fcd-a39a-9a584a478219",
   "metadata": {
    "tags": []
   },
   "outputs": [],
   "source": [
    "# export results\n",
    "export_path = \"./results/\" + input_dic['local'] + ' ' + input_dic['brand_name'] + '/'  + input_dic['category_friendly_name'] + '/output'\n",
    "export_file = 'output_quarterly.csv'\n",
    "df.to_csv(export_path + '/' + export_file, index=False)\n",
    "del df"
   ]
  },
  {
   "cell_type": "markdown",
   "id": "133db587-2010-4577-b6b4-426b2e34a818",
   "metadata": {},
   "source": [
    "#### Monthly"
   ]
  },
  {
   "cell_type": "code",
   "execution_count": null,
   "id": "a8aa017e-57f1-4df3-8ec5-7f607afeb66a",
   "metadata": {
    "tags": []
   },
   "outputs": [],
   "source": [
    "df = df_monthly\\\n",
    "    .groupby('month_starting_date')\\\n",
    "    .agg({\n",
    "        # brand\n",
    "        'brand_ordered_revenue':'sum',\n",
    "        'brand_ordered_quantity':'sum',\n",
    "        'brand_sns_ordered_revenue':'sum',\n",
    "        'brand_sns_quantity':'sum',\n",
    "        'brand_glance_views':'sum',\n",
    "        'brand_total_search_impressions':'sum',\n",
    "        'brand_total_display_impressions':'sum',\n",
    "        'brand_total_impressions':'sum',\n",
    "        # peer set\n",
    "        'peer_set_ordered_revenue':'sum',\n",
    "        'peer_set_ordered_quantity':'sum',\n",
    "        'peer_set_sns_ordered_revenue':'sum',\n",
    "        'peer_set_sns_quantity':'sum',\n",
    "        'peer_set_glance_views':'sum',\n",
    "        'peer_set_total_search_impressions':'sum',\n",
    "        'peer_set_total_display_impressions':'sum',\n",
    "        'peer_set_total_impressions':'sum'\n",
    "    })\\\n",
    "    .sort_index()\n",
    "\n",
    "df.tail()"
   ]
  },
  {
   "cell_type": "code",
   "execution_count": null,
   "id": "95a37c7e-d04f-4206-849f-1ecf339d4c74",
   "metadata": {
    "tags": []
   },
   "outputs": [],
   "source": [
    "# calculate deltas (%)\n",
    "# df['brand_revenue_delta'] = df['brand_ordered_revenue'] / df['brand_ordered_revenue'].shift() - 1\n",
    "# df['brand_quantity_delta'] = df['brand_ordered_quantity'] / df['brand_ordered_quantity'].shift() - 1\n",
    "# df['brand_sns_revenue_delta'] = df['brand_sns_ordered_revenue'] / df['brand_sns_ordered_revenue'].shift() - 1\n",
    "# df['brand_sns_quantity_delta'] = df['brand_sns_quantity'] / df['brand_sns_quantity'].shift() - 1\n",
    "# df['brand_gv_delta'] = df['brand_glance_views'] / df['brand_glance_views'].shift() - 1\n",
    "# df['brand_search_imp_delta'] = df['brand_total_search_impressions'] / df['brand_total_search_impressions'].shift() - 1\n",
    "# df['brand_display_imp_delta'] = df['brand_total_display_impressions'] / df['brand_total_display_impressions'].shift() - 1\n",
    "# df['brand_total_imp_delta'] = df['brand_total_impressions'] / df['brand_total_impressions'].shift() - 1\n",
    "\n",
    "# df['peer_set_revenue_delta'] = df['peer_set_ordered_revenue'] / df['peer_set_ordered_revenue'].shift() - 1\n",
    "# df['peer_set_quantity_delta'] = df['peer_set_ordered_quantity'] / df['peer_set_ordered_quantity'].shift() - 1\n",
    "# df['peer_set_sns_revenue_delta'] = df['peer_set_sns_ordered_revenue'] / df['peer_set_sns_ordered_revenue'].shift() - 1\n",
    "# df['peer_set_sns_quantity_delta'] = df['peer_set_sns_quantity'] / df['peer_set_sns_quantity'].shift() - 1\n",
    "# df['peer_set_gv_delta'] = df['peer_set_glance_views'] / df['peer_set_glance_views'].shift() - 1\n",
    "# df['peer_set_search_imp_delta'] = df['peer_set_total_search_impressions'] / df['peer_set_total_search_impressions'].shift() - 1\n",
    "# df['peer_set_display_imp_delta'] = df['peer_set_total_display_impressions'] / df['peer_set_total_display_impressions'].shift() - 1\n",
    "# df['peer_set_total_imp_delta'] = df['peer_set_total_impressions'] / df['peer_set_total_impressions'].shift() - 1\n",
    "\n",
    "# df.tail()"
   ]
  },
  {
   "cell_type": "code",
   "execution_count": null,
   "id": "c4d0826a-7596-4583-bb9a-5d679bad24bb",
   "metadata": {
    "tags": []
   },
   "outputs": [],
   "source": [
    "# calculate shares\n",
    "df['brand_revenue_share'] = (df.brand_ordered_revenue / df.peer_set_ordered_revenue).round(3)\n",
    "df['brand_quantity_share'] = (df.brand_ordered_quantity / df.peer_set_ordered_quantity).round(3)\n",
    "df['brand_sns_revenue_share'] = (df.brand_sns_ordered_revenue / df.peer_set_sns_ordered_revenue).round(3)\n",
    "df['brand_sns_quantity_share'] = (df.brand_sns_quantity / df.peer_set_sns_ordered_revenue).round(3)\n",
    "df['brand_gv_share'] = (df.brand_glance_views / df.peer_set_glance_views).round(3)\n",
    "df['brand_search_sov'] = (df.brand_total_search_impressions / df.peer_set_total_search_impressions).round(3)\n",
    "df['brand_display_sov'] = (df.brand_total_display_impressions / df.peer_set_total_display_impressions).round(3)\n",
    "df['brand_total_sov'] = (df.brand_total_impressions / df.peer_set_total_impressions).round(3)\n",
    "\n",
    "# calculate CVR\n",
    "df['brand_cvr'] = (df.brand_ordered_quantity - df.brand_sns_quantity) / df.brand_glance_views\n",
    "df['peer_set_cvr'] = (df.peer_set_ordered_quantity - df.peer_set_sns_quantity) / df.peer_set_glance_views\n",
    "\n",
    "df.tail()"
   ]
  },
  {
   "cell_type": "code",
   "execution_count": null,
   "id": "f2baaeed-a5a4-4e09-bc4d-893778db59ca",
   "metadata": {
    "tags": []
   },
   "outputs": [],
   "source": [
    "# calculate share deltas (%)\n",
    "# df['brand_revenue_share_delta'] = df['brand_revenue_share'] / df['brand_revenue_share'].shift() - 1\n",
    "# df['brand_quantity_share_delta'] = df['brand_quantity_share'] / df['brand_quantity_share'].shift() - 1\n",
    "# df['brand_sns_revenue_share_delta'] = df['brand_sns_revenue_share'] / df['brand_sns_revenue_share'].shift() - 1\n",
    "# df['brand_sns_quantity_share_delta'] = df['brand_sns_quantity_share'] / df['brand_sns_quantity_share'].shift() - 1\n",
    "# df['brand_gv_share_delta'] = df['brand_gv_share'] / df['brand_gv_share'].shift() - 1\n",
    "# df['brand_search_sov_delta'] = df['brand_search_sov'] / df['brand_search_sov'].shift() - 1\n",
    "# df['brand_display_sov_delta'] = df['brand_display_sov'] / df['brand_display_sov'].shift() - 1\n",
    "# df['brand_total_sov_delta'] = df['brand_total_sov'] / df['brand_total_sov'].shift() - 1\n",
    "\n",
    "# df.tail()"
   ]
  },
  {
   "cell_type": "code",
   "execution_count": null,
   "id": "715d196e-bece-4b3a-bf7e-cfa1e18ca3b9",
   "metadata": {
    "tags": []
   },
   "outputs": [],
   "source": [
    "# calculate indexed deltas\n",
    "# shares are indexed vs average values T12M\n",
    "df['brand_revenue_share_delta_index'] = df['brand_revenue_share'] / df['brand_revenue_share'].iloc[-12:].mean() * 100\n",
    "df['brand_quantity_share_delta_index'] = df['brand_quantity_share'] / df['brand_quantity_share'].iloc[-12:].mean() * 100\n",
    "df['brand_sns_revenue_share_delta_index'] = df['brand_sns_revenue_share'] / df['brand_sns_revenue_share'].iloc[-12:].mean() * 100\n",
    "df['brand_sns_quantity_share_delta_index'] = df['brand_sns_quantity_share'] / df['brand_sns_quantity_share'].iloc[-12:].mean() * 100\n",
    "df['brand_gv_share_delta_index'] = df['brand_gv_share'] / df['brand_gv_share'].iloc[-12:].mean() * 100\n",
    "df['brand_search_sov_delta_index'] = df['brand_search_sov'] / df['brand_search_sov'].iloc[-12:].mean() * 100\n",
    "df['brand_display_sov_delta_index'] = df['brand_display_sov'] / df['brand_display_sov'].iloc[-12:].mean() * 100\n",
    "df['brand_total_sov_delta_index'] = df['brand_total_sov'] / df['brand_total_sov'].iloc[-12:].mean() * 100\n",
    "\n",
    "# indexed cvr\n",
    "df['brand_cvr_index'] = df['brand_cvr'] / df['peer_set_cvr'] * 100\n",
    "\n",
    "# SnS contribution\n",
    "df['brand_sns_revenue_contribution'] = df['brand_sns_ordered_revenue'] / df['brand_ordered_revenue'] * 100\n",
    "df['peer_set_sns_revenue_contribution'] = df['peer_set_sns_ordered_revenue'] / df['peer_set_ordered_revenue'] * 100\n",
    "\n",
    "df.tail()"
   ]
  },
  {
   "cell_type": "code",
   "execution_count": null,
   "id": "0da19951-112a-419f-8edd-3064ad914606",
   "metadata": {
    "tags": []
   },
   "outputs": [],
   "source": [
    "# reset index\n",
    "df = df.reset_index()\n",
    "df = df.fillna(0)\n",
    "df"
   ]
  },
  {
   "cell_type": "code",
   "execution_count": null,
   "id": "f43f5fbf-15a8-4af9-8e01-d63918c0f892",
   "metadata": {
    "tags": []
   },
   "outputs": [],
   "source": [
    "# export results\n",
    "export_path = \"./results/\" + input_dic['local'] + ' ' + input_dic['brand_name'] + '/'  + input_dic['category_friendly_name'] + '/output'\n",
    "export_file = 'output_monthly.csv'\n",
    "df.to_csv(export_path + '/' + export_file, index=False)\n",
    "del df"
   ]
  },
  {
   "cell_type": "markdown",
   "id": "7ad77d30-d52a-497f-b966-a9766d5130b4",
   "metadata": {},
   "source": [
    "#### Weekly"
   ]
  },
  {
   "cell_type": "code",
   "execution_count": null,
   "id": "f41a5245-0d8c-460b-958f-5ed5c5a051ff",
   "metadata": {
    "tags": []
   },
   "outputs": [],
   "source": [
    "df = df_weekly\\\n",
    "    .groupby('week_starting_date')\\\n",
    "    .agg({\n",
    "        # brand\n",
    "        'brand_ordered_revenue':'sum',\n",
    "        'brand_ordered_quantity':'sum',\n",
    "        'brand_sns_ordered_revenue':'sum',\n",
    "        'brand_sns_quantity':'sum',\n",
    "        'brand_glance_views':'sum',\n",
    "        'brand_total_search_impressions':'sum',\n",
    "        'brand_total_display_impressions':'sum',\n",
    "        'brand_total_impressions':'sum',\n",
    "        # peer set\n",
    "        'peer_set_ordered_revenue':'sum',\n",
    "        'peer_set_ordered_quantity':'sum',\n",
    "        'peer_set_sns_ordered_revenue':'sum',\n",
    "        'peer_set_sns_quantity':'sum',\n",
    "        'peer_set_glance_views':'sum',\n",
    "        'peer_set_total_search_impressions':'sum',\n",
    "        'peer_set_total_display_impressions':'sum',\n",
    "        'peer_set_total_impressions':'sum'\n",
    "    })\\\n",
    "    .sort_index()\n",
    "\n",
    "df.tail()"
   ]
  },
  {
   "cell_type": "code",
   "execution_count": null,
   "id": "1fa1000b-b19a-4e57-89b0-a00e676f6836",
   "metadata": {
    "tags": []
   },
   "outputs": [],
   "source": [
    "# calculate deltas (%)\n",
    "# df['brand_revenue_delta'] = df['brand_ordered_revenue'] / df['brand_ordered_revenue'].shift() - 1\n",
    "# df['brand_quantity_delta'] = df['brand_ordered_quantity'] / df['brand_ordered_quantity'].shift() - 1\n",
    "# df['brand_sns_revenue_delta'] = df['brand_sns_ordered_revenue'] / df['brand_sns_ordered_revenue'].shift() - 1\n",
    "# df['brand_sns_quantity_delta'] = df['brand_sns_quantity'] / df['brand_sns_quantity'].shift() - 1\n",
    "# df['brand_gv_delta'] = df['brand_glance_views'] / df['brand_glance_views'].shift() - 1\n",
    "# df['brand_search_imp_delta'] = df['brand_total_search_impressions'] / df['brand_total_search_impressions'].shift() - 1\n",
    "# df['brand_display_imp_delta'] = df['brand_total_display_impressions'] / df['brand_total_display_impressions'].shift() - 1\n",
    "# df['brand_total_imp_delta'] = df['brand_total_impressions'] / df['brand_total_impressions'].shift() - 1\n",
    "\n",
    "# df['peer_set_revenue_delta'] = df['peer_set_ordered_revenue'] / df['peer_set_ordered_revenue'].shift() - 1\n",
    "# df['peer_set_quantity_delta'] = df['peer_set_ordered_quantity'] / df['peer_set_ordered_quantity'].shift() - 1\n",
    "# df['peer_set_sns_revenue_delta'] = df['peer_set_sns_ordered_revenue'] / df['peer_set_sns_ordered_revenue'].shift() - 1\n",
    "# df['peer_set_sns_quantity_delta'] = df['peer_set_sns_quantity'] / df['peer_set_sns_quantity'].shift() - 1\n",
    "# df['peer_set_gv_delta'] = df['peer_set_glance_views'] / df['peer_set_glance_views'].shift() - 1\n",
    "# df['peer_set_search_imp_delta'] = df['peer_set_total_search_impressions'] / df['peer_set_total_search_impressions'].shift() - 1\n",
    "# df['peer_set_display_imp_delta'] = df['peer_set_total_display_impressions'] / df['peer_set_total_display_impressions'].shift() - 1\n",
    "# df['peer_set_total_imp_delta'] = df['peer_set_total_impressions'] / df['peer_set_total_impressions'].shift() - 1\n",
    "\n",
    "# df.tail()"
   ]
  },
  {
   "cell_type": "code",
   "execution_count": null,
   "id": "6507abc6-9f79-4a8e-b4f3-5e0edf88ff2b",
   "metadata": {
    "tags": []
   },
   "outputs": [],
   "source": [
    "# calculate shares\n",
    "df['brand_revenue_share'] = (df.brand_ordered_revenue / df.peer_set_ordered_revenue).round(3)\n",
    "df['brand_quantity_share'] = (df.brand_ordered_quantity / df.peer_set_ordered_quantity).round(3)\n",
    "df['brand_sns_revenue_share'] = (df.brand_sns_ordered_revenue / df.peer_set_sns_ordered_revenue).round(3)\n",
    "df['brand_sns_quantity_share'] = (df.brand_sns_quantity / df.peer_set_sns_ordered_revenue).round(3)\n",
    "df['brand_gv_share'] = (df.brand_glance_views / df.peer_set_glance_views).round(3)\n",
    "df['brand_search_sov'] = (df.brand_total_search_impressions / df.peer_set_total_search_impressions).round(3)\n",
    "df['brand_display_sov'] = (df.brand_total_display_impressions / df.peer_set_total_display_impressions).round(3)\n",
    "df['brand_total_sov'] = (df.brand_total_impressions / df.peer_set_total_impressions).round(3)\n",
    "\n",
    "# calculate CVR\n",
    "df['brand_cvr'] = (df.brand_ordered_quantity - df.brand_sns_quantity) / df.brand_glance_views\n",
    "df['peer_set_cvr'] = (df.peer_set_ordered_quantity - df.peer_set_sns_quantity) / df.peer_set_glance_views\n",
    "\n",
    "df.tail()"
   ]
  },
  {
   "cell_type": "code",
   "execution_count": null,
   "id": "4f37d4d4-39c2-4a86-9423-da2eecd9870b",
   "metadata": {
    "tags": []
   },
   "outputs": [],
   "source": [
    "# calculate share deltas (%)\n",
    "# df['brand_revenue_share_delta'] = df['brand_revenue_share'] / df['brand_revenue_share'].shift() - 1\n",
    "# df['brand_quantity_share_delta'] = df['brand_quantity_share'] / df['brand_quantity_share'].shift() - 1\n",
    "# df['brand_sns_revenue_share_delta'] = df['brand_sns_revenue_share'] / df['brand_sns_revenue_share'].shift() - 1\n",
    "# df['brand_sns_quantity_share_delta'] = df['brand_sns_quantity_share'] / df['brand_sns_quantity_share'].shift() - 1\n",
    "# df['brand_gv_share_delta'] = df['brand_gv_share'] / df['brand_gv_share'].shift() - 1\n",
    "# df['brand_search_sov_delta'] = df['brand_search_sov'] / df['brand_search_sov'].shift() - 1\n",
    "# df['brand_display_sov_delta'] = df['brand_display_sov'] / df['brand_display_sov'].shift() - 1\n",
    "# df['brand_total_sov_delta'] = df['brand_total_sov'] / df['brand_total_sov'].shift() - 1\n",
    "\n",
    "# df.tail()"
   ]
  },
  {
   "cell_type": "code",
   "execution_count": null,
   "id": "c794557b-9c7c-43b7-840b-4c487def21a6",
   "metadata": {
    "tags": []
   },
   "outputs": [],
   "source": [
    "# calculate indexed deltas\n",
    "# shares are indexed vs average values T3M\n",
    "df['brand_revenue_share_delta_index'] = df['brand_revenue_share'] / df['brand_revenue_share'].iloc[-12:].mean() * 100\n",
    "df['brand_quantity_share_delta_index'] = df['brand_quantity_share'] / df['brand_quantity_share'].iloc[-12:].mean() * 100\n",
    "df['brand_sns_revenue_share_delta_index'] = df['brand_sns_revenue_share'] / df['brand_sns_revenue_share'].iloc[-12:].mean() * 100\n",
    "df['brand_sns_quantity_share_delta_index'] = df['brand_sns_quantity_share'] / df['brand_sns_quantity_share'].iloc[-12:].mean() * 100\n",
    "df['brand_gv_share_delta_index'] = df['brand_gv_share'] / df['brand_gv_share'].iloc[-12:].mean() * 100\n",
    "df['brand_search_sov_delta_index'] = df['brand_search_sov'] / df['brand_search_sov'].iloc[-12:].mean() * 100\n",
    "df['brand_display_sov_delta_index'] = df['brand_display_sov'] / df['brand_display_sov'].iloc[-12:].mean() * 100\n",
    "df['brand_total_sov_delta_index'] = df['brand_total_sov'] / df['brand_total_sov'].iloc[-12:].mean() * 100\n",
    "\n",
    "# indexed cvr\n",
    "df['brand_cvr_index'] = df['brand_cvr'] / df['peer_set_cvr'] * 100\n",
    "# SnS contribution\n",
    "df['brand_sns_revenue_contribution'] = df['brand_sns_ordered_revenue'] / df['brand_ordered_revenue'] * 100\n",
    "df['peer_set_sns_revenue_contribution'] = df['peer_set_sns_ordered_revenue'] / df['peer_set_ordered_revenue'] * 100\n",
    "\n",
    "df.tail()"
   ]
  },
  {
   "cell_type": "code",
   "execution_count": null,
   "id": "b2b33459-b0d5-4091-8cae-a2a5ea5dd642",
   "metadata": {
    "tags": []
   },
   "outputs": [],
   "source": [
    "# reset index\n",
    "df = df.reset_index()\n",
    "df = df.fillna(0)\n",
    "df.head()"
   ]
  },
  {
   "cell_type": "code",
   "execution_count": null,
   "id": "6973cffc-3b2b-4009-9c35-99f47a8753ef",
   "metadata": {
    "tags": []
   },
   "outputs": [],
   "source": [
    "# export results\n",
    "export_path = \"./results/\" + input_dic['local'] + ' ' + input_dic['brand_name'] + '/'  + input_dic['category_friendly_name'] + '/output'\n",
    "export_file = 'output_weekly.csv'\n",
    "df.to_csv(export_path + '/' + export_file, index=False)\n",
    "del df"
   ]
  },
  {
   "cell_type": "markdown",
   "id": "50e52cc2-296f-40c9-ba1c-58351edb15e3",
   "metadata": {
    "tags": []
   },
   "source": [
    "## 4 PPT production"
   ]
  },
  {
   "cell_type": "markdown",
   "id": "cd431268-05fa-4bcc-b2dd-c8997d1200f7",
   "metadata": {},
   "source": [
    "### 4.1 Import data"
   ]
  },
  {
   "cell_type": "code",
   "execution_count": null,
   "id": "d9d8ed0a-4a12-424d-9f88-576399c66509",
   "metadata": {
    "tags": []
   },
   "outputs": [],
   "source": [
    "# import\n",
    "import_path = \"./results/\" + input_dic['local'] + ' ' + input_dic['brand_name'] + '/'  + input_dic['category_friendly_name'] + '/output'\n",
    "import_file = 'output_period.csv'\n",
    "df_yearly = pd.read_csv(import_path + '/' + import_file)"
   ]
  },
  {
   "cell_type": "code",
   "execution_count": null,
   "id": "0cae964b-d3f1-4402-a5ed-6ef105c4cbcc",
   "metadata": {
    "tags": []
   },
   "outputs": [],
   "source": [
    "# import\n",
    "import_path = \"./results/\" + input_dic['local'] + ' ' + input_dic['brand_name'] + '/'  + input_dic['category_friendly_name'] + '/output'\n",
    "import_file = 'output_quarterly.csv'\n",
    "df_quarterly = pd.read_csv(import_path + '/' + import_file)"
   ]
  },
  {
   "cell_type": "code",
   "execution_count": null,
   "id": "2243219c-832a-4d7e-9c31-623f045b9223",
   "metadata": {
    "tags": []
   },
   "outputs": [],
   "source": [
    "# import\n",
    "import_path = \"./results/\" + input_dic['local'] + ' ' + input_dic['brand_name'] + '/'  + input_dic['category_friendly_name'] + '/output'\n",
    "import_file = 'output_monthly.csv'\n",
    "df_monthly = pd.read_csv(import_path + '/' + import_file)"
   ]
  },
  {
   "cell_type": "code",
   "execution_count": null,
   "id": "843be8e1-a999-43f4-a0f6-c9f4358fc52b",
   "metadata": {
    "tags": []
   },
   "outputs": [],
   "source": [
    "# import\n",
    "import_path = \"./results/\" + input_dic['local'] + ' ' + input_dic['brand_name'] + '/'  + input_dic['category_friendly_name'] + '/output'\n",
    "import_file = 'output_weekly.csv'\n",
    "df_weekly = pd.read_csv(import_path + '/' + import_file)"
   ]
  },
  {
   "cell_type": "markdown",
   "id": "ee3e2534-4628-4df7-872a-a4c0feff0c3a",
   "metadata": {
    "tags": []
   },
   "source": [
    "### 4.2 Section: PPT backbone"
   ]
  },
  {
   "cell_type": "code",
   "execution_count": null,
   "id": "4dd6d52b-7cb9-4e00-8052-56d8d05f3a48",
   "metadata": {
    "tags": []
   },
   "outputs": [],
   "source": [
    "# build empty dictionary\n",
    "ppt_dic_s = {}"
   ]
  },
  {
   "cell_type": "code",
   "execution_count": null,
   "id": "5287ef48-49ab-4497-91a1-cf07fb6b9515",
   "metadata": {
    "tags": []
   },
   "outputs": [],
   "source": [
    "pres = Presentation(\"./resources/PPT_templates/template_basic.pptx\")"
   ]
  },
  {
   "cell_type": "code",
   "execution_count": null,
   "id": "a44722a4-97b3-4851-be4b-2c92a46f5b70",
   "metadata": {
    "tags": []
   },
   "outputs": [],
   "source": [
    "# calculate date objects\n",
    "start_date = datetime.today() - relativedelta(months=12)\n",
    "start_date = start_date.replace(day=1).strftime('%Y-%m-%d')\n",
    "\n",
    "end_date = datetime.today().replace(day=1) - timedelta(days=1)\n",
    "end_date = end_date.strftime('%Y-%m-%d')\n",
    "\n",
    "# Chart titles, comments, group shapes, tables!\n",
    "pres.replace({\n",
    "    \"[brand]\": input_dic['brand_name'],\n",
    "    \"[locale]\": input_dic['local'],\n",
    "    \"[start_date]\": start_date,\n",
    "    \"[end_date]\": end_date,\n",
    "    \"[category]\": input_dic['category_friendly_name'],\n",
    "    \"[root_category]\": input_dic['root_browse_node_name'],\n",
    "    \"[category_url]\": input_dic['category_url']\n",
    "})"
   ]
  },
  {
   "cell_type": "code",
   "execution_count": null,
   "id": "acc5195a-a7b9-4119-b31d-1b8ae8667f28",
   "metadata": {
    "tags": []
   },
   "outputs": [],
   "source": [
    "# export results\n",
    "export_path = \"./results/\" + input_dic['local'] + ' ' + input_dic['brand_name'] + '/'  + input_dic['category_friendly_name'] + '/output'\n",
    "export_file = input_dic['local']  + '_' + input_dic['brand_name'] + '_BPR_intro_takeaways.pptx'\n",
    "pres.save(export_path + '/' + export_file)\n",
    "del pres"
   ]
  },
  {
   "cell_type": "markdown",
   "id": "cd98b35f-c817-4958-a147-7010fa270996",
   "metadata": {
    "tags": []
   },
   "source": [
    "### 4.3 Section: reporting slides"
   ]
  },
  {
   "cell_type": "markdown",
   "id": "c1cd6131-1b11-4293-b269-a1a083617e7c",
   "metadata": {
    "tags": [],
    "toc-hr-collapsed": true
   },
   "source": [
    "#### 4.3.1 Section: sales revenue"
   ]
  },
  {
   "cell_type": "code",
   "execution_count": null,
   "id": "57e693a9-d7bc-4623-8776-187b94bfaa2b",
   "metadata": {
    "tags": []
   },
   "outputs": [],
   "source": [
    "# build empty dictionary\n",
    "ppt_dic_s = {}"
   ]
  },
  {
   "cell_type": "code",
   "execution_count": null,
   "id": "9e5365ba-e86c-48c5-9845-7461160ddfdc",
   "metadata": {
    "tags": []
   },
   "outputs": [],
   "source": [
    "pres = Presentation(\"./resources/PPT_templates/template_sales_revenue.pptx\")"
   ]
  },
  {
   "cell_type": "markdown",
   "id": "970dbfa3-98e6-4944-b760-8d3c94670664",
   "metadata": {},
   "source": [
    "##### General"
   ]
  },
  {
   "cell_type": "code",
   "execution_count": null,
   "id": "29ea38bb-1c2d-4e30-9dd3-0085a1988a08",
   "metadata": {
    "tags": []
   },
   "outputs": [],
   "source": [
    "# calculate date objects\n",
    "start_date = datetime.today() - relativedelta(months=12)\n",
    "start_date = start_date.replace(day=1).strftime('%Y-%m-%d')\n",
    "\n",
    "end_date = datetime.today().replace(day=1) - timedelta(days=1)\n",
    "end_date = end_date.strftime('%Y-%m-%d')\n",
    "\n",
    "# Chart titles, comments, group shapes, tables!\n",
    "pres.replace({\n",
    "    \"[brand]\": input_dic['brand_name'],\n",
    "    \"[locale]\": input_dic['local'],\n",
    "    \"[start_date]\": start_date,\n",
    "    \"[end_date]\": end_date,\n",
    "    \"[category]\": input_dic['category_friendly_name'],\n",
    "    \"[root_category]\": input_dic['root_browse_node_name'],\n",
    "    \"[category_url]\": input_dic['category_url']\n",
    "})"
   ]
  },
  {
   "cell_type": "markdown",
   "id": "92faadf8-eb50-4029-b7c2-1f86c717cb32",
   "metadata": {},
   "source": [
    "##### metrics"
   ]
  },
  {
   "cell_type": "code",
   "execution_count": null,
   "id": "c54861f4-fa1c-4769-bb8a-358cc1960045",
   "metadata": {
    "tags": []
   },
   "outputs": [],
   "source": [
    "# brand insights\n",
    "if (df_yearly['brand_ordered_revenue'] > 0).all():\n",
    "    # we can calculate brand yoy growth rates\n",
    "    ppt_dic_s['S.01'] = 'increased' if df_yearly['brand_revenue_delta'].iloc[1] > df_yearly['peer_set_revenue_delta'].iloc[1] else 'decreased'\n",
    "    ppt_dic_s['S.02'] = 'grew' if df_yearly['brand_revenue_delta'].iloc[1] > 0 else 'dropped'\n",
    "    ppt_dic_s['S.03'] = str(int(df_yearly['brand_revenue_delta'].iloc[1]*100))\n",
    "    ppt_dic_s['S.04'] = 'grew' if df_yearly['peer_set_revenue_delta'].iloc[1] > 0 else 'dropped'\n",
    "    ppt_dic_s['S.05'] = str(int(df_yearly['peer_set_revenue_delta'].iloc[1]*100))\n",
    "    ppt_dic_s['S.06'] = str(round(df_yearly['brand_revenue_share'].iloc[0]*100,2))\n",
    "    ppt_dic_s['S.07'] = str(round(df_yearly['brand_revenue_share'].iloc[1]*100,2))\n",
    "    ppt_dic_s['S.08'] = str(int(df_yearly['brand_revenue_share_delta'].iloc[1]*100)) if df_yearly['brand_revenue_share_delta'].iloc[1] != float('inf') else '[remove insight]'   \n",
    "elif (df_yearly['peer_set_ordered_revenue'] > 0).all():\n",
    "    # we cannot calculate brand yoy growth, can calculate peer set yoy growth\n",
    "    ppt_dic_s['S.01'] = '[remove insight]'\n",
    "    ppt_dic_s['S.02'] = '[remove insight]'\n",
    "    ppt_dic_s['S.03'] = '[remove insight]'\n",
    "    ppt_dic_s['S.04'] = 'grew' if df_yearly['peer_set_revenue_delta'].iloc[1] > 0 else 'dropped'\n",
    "    ppt_dic_s['S.05'] = str(int(df_yearly['peer_set_revenue_delta'].iloc[1]*100))\n",
    "    ppt_dic_s['S.06'] = '[remove insight]'\n",
    "    ppt_dic_s['S.07'] = '[remove insight]'\n",
    "    ppt_dic_s['S.08'] = '[remove insight]'\n",
    "else:\n",
    "    # we cannot calculate any yoy growth rates\n",
    "    ppt_dic_s['S.01'] = '[remove insight]'\n",
    "    ppt_dic_s['S.02'] = '[remove insight]'\n",
    "    ppt_dic_s['S.03'] = '[remove insight]'\n",
    "    ppt_dic_s['S.04'] = '[remove insight]'\n",
    "    ppt_dic_s['S.05'] = '[remove insight]'\n",
    "    ppt_dic_s['S.06'] = '[remove insight]'\n",
    "    ppt_dic_s['S.07'] = '[remove insight]'\n",
    "    ppt_dic_s['S.08'] = '[remove insight]'\n"
   ]
  },
  {
   "cell_type": "code",
   "execution_count": null,
   "id": "6a98b2c4-1209-4859-a39f-36d962a77e96",
   "metadata": {
    "tags": []
   },
   "outputs": [],
   "source": [
    "# replace\n",
    "pres.replace({\n",
    "    \"[S.01]\": ppt_dic_s['S.01'],\n",
    "    \"[S.02]\": ppt_dic_s['S.02'],\n",
    "    \"[S.03]\": ppt_dic_s['S.03'],\n",
    "    \"[S.04]\": ppt_dic_s['S.04'],\n",
    "    \"[S.05]\": ppt_dic_s['S.05'],\n",
    "    \"[S.06]\": ppt_dic_s['S.06'],\n",
    "    \"[S.07]\": ppt_dic_s['S.07'],\n",
    "    \"[S.08]\": ppt_dic_s['S.08']\n",
    "})"
   ]
  },
  {
   "cell_type": "markdown",
   "id": "9f9c55f4-90e8-4700-a0f4-322139724c41",
   "metadata": {},
   "source": [
    "##### Chart quarterly"
   ]
  },
  {
   "cell_type": "code",
   "execution_count": null,
   "id": "718c649f-1ed8-4bc8-966c-c17334d92d86",
   "metadata": {
    "tags": []
   },
   "outputs": [],
   "source": [
    "chart_input = df_quarterly\\\n",
    "                    .loc[:,['quarter','peer_set_ordered_revenue','brand_revenue_share_delta_index']]\\\n",
    "                    .iloc[-4:,:]\\\n",
    "                    .astype({'peer_set_ordered_revenue':'int64','brand_revenue_share_delta_index':'int'})\\\n",
    "                    .rename(\n",
    "                        columns = {\n",
    "                            'peer_set_ordered_revenue':'Peer Set Sales Revenue (axis-less)',\n",
    "                            'brand_revenue_share_delta_index':'Sales Share Index'\n",
    "                        }\n",
    "                    )\n",
    "chart_input"
   ]
  },
  {
   "cell_type": "code",
   "execution_count": null,
   "id": "ab0bebb1-d6a6-4f54-bf78-0275e51631c5",
   "metadata": {
    "tags": []
   },
   "outputs": [],
   "source": [
    "pres.change_bar_chart(\n",
    "    slide_number=3, \n",
    "    chart_name='Chart 1', \n",
    "    series_names = ['Peer Set Sales Revenue (axis-less)','Sales Share Index'], \n",
    "    df=chart_input, \n",
    "    x_column='quarter', \n",
    "    y_columns=['Peer Set Sales Revenue (axis-less)','Sales Share Index']\n",
    ")"
   ]
  },
  {
   "cell_type": "markdown",
   "id": "f3c6cd7d-a8df-4d94-95f7-f4a0a49e2609",
   "metadata": {},
   "source": [
    "##### Chart monthly"
   ]
  },
  {
   "cell_type": "code",
   "execution_count": null,
   "id": "99eaa2be-7193-4eb0-be4d-e4f33e0029bf",
   "metadata": {
    "tags": []
   },
   "outputs": [],
   "source": [
    "chart_input = df_monthly\\\n",
    "                    .loc[:,['month_starting_date','peer_set_ordered_revenue','brand_revenue_share_delta_index']]\\\n",
    "                    .iloc[-12:,:]\\\n",
    "                    .astype({'month_starting_date':'datetime64[ns]',\n",
    "                             'peer_set_ordered_revenue':'int64',\n",
    "                             'brand_revenue_share_delta_index':'int'\n",
    "                            })\\\n",
    "                    .rename(\n",
    "                        columns = {\n",
    "                            'peer_set_ordered_revenue':'Peer Set Sales Revenue (axis-less)',\n",
    "                            'brand_revenue_share_delta_index':'Sales Share Index'\n",
    "                        }\n",
    "                    )\n",
    "chart_input['month_starting_date'] = chart_input.month_starting_date.dt.strftime('%b')\n",
    "chart_input"
   ]
  },
  {
   "cell_type": "code",
   "execution_count": null,
   "id": "f8b2ba7a-eb29-4be2-b204-98899d370426",
   "metadata": {
    "tags": []
   },
   "outputs": [],
   "source": [
    "pres.change_bar_chart(\n",
    "    slide_number=4, \n",
    "    chart_name='Chart 1', \n",
    "    series_names = ['Peer Set Sales Revenue (axis-less)','Sales Share Index'], \n",
    "    df= chart_input, \n",
    "    x_column='month_starting_date', \n",
    "    y_columns=['Peer Set Sales Revenue (axis-less)','Sales Share Index']\n",
    ")"
   ]
  },
  {
   "cell_type": "markdown",
   "id": "74c34b42-4a9f-4e85-86f4-3bf7665ee532",
   "metadata": {},
   "source": [
    "##### Chart weekly"
   ]
  },
  {
   "cell_type": "code",
   "execution_count": null,
   "id": "45918dab-faa7-4d3f-826c-60a8af8f8eaf",
   "metadata": {
    "tags": []
   },
   "outputs": [],
   "source": [
    "chart_input = df_weekly\\\n",
    "                    .loc[:,['week_starting_date','peer_set_ordered_revenue','brand_revenue_share_delta_index']]\\\n",
    "                    .iloc[-13:-1,:]\\\n",
    "                    .astype({'week_starting_date':'datetime64[ns]',\n",
    "                             'peer_set_ordered_revenue':'int64',\n",
    "                             'brand_revenue_share_delta_index':'int'\n",
    "                            })\\\n",
    "                    .rename(\n",
    "                        columns = {\n",
    "                            'peer_set_ordered_revenue':'Peer Set Sales Revenue (axis-less)',\n",
    "                            'brand_revenue_share_delta_index':'Sales Share Index'\n",
    "                        }\n",
    "                    )\n",
    "chart_input['week_starting_date'] = chart_input.week_starting_date.dt.strftime('%m/%d')\n",
    "chart_input"
   ]
  },
  {
   "cell_type": "code",
   "execution_count": null,
   "id": "4bc3ece5-d045-472c-b9df-86c78dd0007e",
   "metadata": {
    "tags": []
   },
   "outputs": [],
   "source": [
    "pres.change_bar_chart(\n",
    "    slide_number=5, \n",
    "    chart_name='Chart 1', \n",
    "    series_names = ['Peer Set Sales Revenue (axis-less)','Sales Share Index'], \n",
    "    df= chart_input, \n",
    "    x_column='week_starting_date', \n",
    "    y_columns=['Peer Set Sales Revenue (axis-less)','Sales Share Index']\n",
    ")"
   ]
  },
  {
   "cell_type": "markdown",
   "id": "baa11bec-a401-40b9-84f6-ecd50e7809d6",
   "metadata": {},
   "source": [
    "##### Export"
   ]
  },
  {
   "cell_type": "code",
   "execution_count": null,
   "id": "747a02c0-d9da-4b32-883a-c47943eb6192",
   "metadata": {
    "tags": []
   },
   "outputs": [],
   "source": [
    "# export results\n",
    "export_path = \"./results/\" + input_dic['local'] + ' ' + input_dic['brand_name'] + '/'  + input_dic['category_friendly_name'] + '/output'\n",
    "export_file = input_dic['local']  + '_' + input_dic['brand_name'] + '_BPR_sales_revenue.pptx'\n",
    "pres.save(export_path + '/' + export_file)\n",
    "del pres"
   ]
  },
  {
   "cell_type": "markdown",
   "id": "06e0b242-4076-4b61-92a0-5438956b88af",
   "metadata": {
    "tags": []
   },
   "source": [
    "#### 4.3.2 Section: glance views"
   ]
  },
  {
   "cell_type": "code",
   "execution_count": null,
   "id": "c58b5959-9e15-4868-ae2d-8fcade812b4d",
   "metadata": {
    "tags": []
   },
   "outputs": [],
   "source": [
    "# build empty dictionary\n",
    "ppt_dic_g = {}"
   ]
  },
  {
   "cell_type": "code",
   "execution_count": null,
   "id": "7f2b6870-9991-4ed6-b62a-fb4f2b507145",
   "metadata": {
    "tags": []
   },
   "outputs": [],
   "source": [
    "pres = Presentation(\"./resources/PPT_templates/template_glance_views.pptx\")"
   ]
  },
  {
   "cell_type": "markdown",
   "id": "7bb2aa50-f031-4c79-a296-b086d04214dc",
   "metadata": {},
   "source": [
    "##### General"
   ]
  },
  {
   "cell_type": "code",
   "execution_count": null,
   "id": "0cf910c8-d197-47f2-acee-fc522feeec16",
   "metadata": {
    "tags": []
   },
   "outputs": [],
   "source": [
    "# calculate date objects\n",
    "start_date = datetime.today() - relativedelta(months=12)\n",
    "start_date = start_date.replace(day=1).strftime('%Y-%m-%d')\n",
    "\n",
    "end_date = datetime.today().replace(day=1) - timedelta(days=1)\n",
    "end_date = end_date.strftime('%Y-%m-%d')\n",
    "\n",
    "# Chart titles, comments, group shapes, tables!\n",
    "pres.replace({\n",
    "    \"[brand]\": input_dic['brand_name'],\n",
    "    \"[locale]\": input_dic['local'],\n",
    "    \"[start_date]\": start_date,\n",
    "    \"[end_date]\": end_date,\n",
    "    \"[category]\": input_dic['category_friendly_name'],\n",
    "    \"[root_category]\": input_dic['root_browse_node_name'],\n",
    "    \"[category_url]\": input_dic['category_url']\n",
    "})"
   ]
  },
  {
   "cell_type": "markdown",
   "id": "795972f7-c967-45f2-873e-91f6b4940895",
   "metadata": {},
   "source": [
    "##### metrics"
   ]
  },
  {
   "cell_type": "code",
   "execution_count": null,
   "id": "514f9e62-cf71-484d-875b-a44dab3b2096",
   "metadata": {
    "tags": []
   },
   "outputs": [],
   "source": [
    "# brand insights\n",
    "if (df_yearly['brand_glance_views'] > 0).all():\n",
    "    # we can calculate brand yoy growth rates\n",
    "    ppt_dic_g['G.01'] = 'increased' if df_yearly['brand_gv_delta'].iloc[1] > df_yearly['peer_set_gv_delta'].iloc[1] else 'decreased'\n",
    "    ppt_dic_g['G.02'] = 'grew' if df_yearly['brand_gv_delta'].iloc[1] > 0 else 'dropped'\n",
    "    ppt_dic_g['G.03'] = str(int(df_yearly['brand_gv_delta'].iloc[1]*100))\n",
    "    ppt_dic_g['G.04'] = 'grew' if df_yearly['peer_set_gv_delta'].iloc[1] > 0 else 'dropped'\n",
    "    ppt_dic_g['G.05'] = str(int(df_yearly['peer_set_gv_delta'].iloc[1]*100))\n",
    "    ppt_dic_g['G.06'] = str(int(df_yearly['brand_gv_share_delta'].iloc[1]*100)) if df_yearly['brand_gv_share_delta'].iloc[1] != float('inf') else '[remove insight]'   \n",
    "elif (df_yearly['peer_set_glance_views'] > 0).all():\n",
    "    # we cannot calculate brand yoy growth, can calculate peer set yoy growth\n",
    "    ppt_dic_g['G.01'] = '[remove insight]'\n",
    "    ppt_dic_g['G.02'] = '[remove insight]'\n",
    "    ppt_dic_g['G.03'] = '[remove insight]'\n",
    "    ppt_dic_g['G.04'] = 'grew' if df_yearly['peer_set_gv_delta'].iloc[1] > 0 else 'dropped'\n",
    "    ppt_dic_g['G.05'] = str(int(df_yearly['peer_set_gv_delta'].iloc[1]*100))\n",
    "    ppt_dic_g['G.06'] = '[remove insight]'\n",
    "else:\n",
    "    # we cannot calculate any yoy growth rates\n",
    "    ppt_dic_g['G.01'] = '[remove insight]'\n",
    "    ppt_dic_g['G.02'] = '[remove insight]'\n",
    "    ppt_dic_g['G.03'] = '[remove insight]'\n",
    "    ppt_dic_g['G.04'] = '[remove insight]'\n",
    "    ppt_dic_g['G.05'] = '[remove insight]'\n",
    "    ppt_dic_g['G.06'] = '[remove insight]'\n"
   ]
  },
  {
   "cell_type": "code",
   "execution_count": null,
   "id": "af1a2df7-407b-473c-9a65-627a5a8e4925",
   "metadata": {
    "tags": []
   },
   "outputs": [],
   "source": [
    "# replace\n",
    "pres.replace({\n",
    "    \"[G.01]\": ppt_dic_g['G.01'],\n",
    "    \"[G.02]\": ppt_dic_g['G.02'],\n",
    "    \"[G.03]\": ppt_dic_g['G.03'],\n",
    "    \"[G.04]\": ppt_dic_g['G.04'],\n",
    "    \"[G.05]\": ppt_dic_g['G.05'],\n",
    "    \"[G.06]\": ppt_dic_g['G.06']\n",
    "})"
   ]
  },
  {
   "cell_type": "markdown",
   "id": "1ab421c9-83d6-48e2-a7bb-6a5a63e8fc1a",
   "metadata": {},
   "source": [
    "##### Chart quarterly"
   ]
  },
  {
   "cell_type": "code",
   "execution_count": null,
   "id": "03c6ae36-eb7a-4cd2-a06a-e74eb69400ff",
   "metadata": {
    "tags": []
   },
   "outputs": [],
   "source": [
    "chart_input = df_quarterly\\\n",
    "                    .loc[:,['quarter','peer_set_glance_views','brand_gv_share_delta_index']]\\\n",
    "                    .iloc[-4:,:]\\\n",
    "                    .astype({'peer_set_glance_views':'int64','brand_gv_share_delta_index':'int'})\\\n",
    "                    .rename(\n",
    "                        columns = {\n",
    "                            'peer_set_glance_views':'Peer Set Glance Views (axis-less)',\n",
    "                            'brand_gv_share_delta_index':'Glance Views Share Index'\n",
    "                        }\n",
    "                    )\n",
    "chart_input"
   ]
  },
  {
   "cell_type": "code",
   "execution_count": null,
   "id": "ece8ae11-eb30-40e4-b673-b1e59261222a",
   "metadata": {
    "tags": []
   },
   "outputs": [],
   "source": [
    "pres.change_bar_chart(\n",
    "    slide_number=2, \n",
    "    chart_name='Chart 1', \n",
    "    series_names = ['Peer Set Glance Views (axis-less)','Glance Views Share Index'], \n",
    "    df=chart_input, \n",
    "    x_column='quarter', \n",
    "    y_columns=['Peer Set Glance Views (axis-less)','Glance Views Share Index']\n",
    ")"
   ]
  },
  {
   "cell_type": "markdown",
   "id": "1f7a1e31-ad7e-42dc-90ba-2e62ae36d91f",
   "metadata": {},
   "source": [
    "##### Chart monthly"
   ]
  },
  {
   "cell_type": "code",
   "execution_count": null,
   "id": "4b02d6dd-2822-43a5-a8c2-be0640c4cec1",
   "metadata": {
    "tags": []
   },
   "outputs": [],
   "source": [
    "chart_input = df_monthly\\\n",
    "                    .loc[:,['month_starting_date','peer_set_glance_views','brand_gv_share_delta_index']]\\\n",
    "                    .iloc[-12:,:]\\\n",
    "                    .astype({'month_starting_date':'datetime64[ns]',\n",
    "                             'peer_set_glance_views':'int64',\n",
    "                             'brand_gv_share_delta_index':'int'\n",
    "                            })\\\n",
    "                    .rename(\n",
    "                        columns = {\n",
    "                            'peer_set_glance_views':'Peer Set Glance Views (axis-less)',\n",
    "                            'brand_gv_share_delta_index':'Glance Views Share Index'\n",
    "                        }\n",
    "                    )\n",
    "chart_input['month_starting_date'] = chart_input.month_starting_date.dt.strftime('%b')\n",
    "chart_input\n"
   ]
  },
  {
   "cell_type": "code",
   "execution_count": null,
   "id": "26d54b05-2820-4fa7-83ae-247ba1e4c0ea",
   "metadata": {
    "tags": []
   },
   "outputs": [],
   "source": [
    "pres.change_bar_chart(\n",
    "    slide_number=3, \n",
    "    chart_name='Chart 1', \n",
    "    series_names = ['Peer Set Glance Views (axis-less)','Glance Views Share Index'], \n",
    "    df= chart_input, \n",
    "    x_column='month_starting_date', \n",
    "    y_columns=['Peer Set Glance Views (axis-less)','Glance Views Share Index']\n",
    ")\n"
   ]
  },
  {
   "cell_type": "markdown",
   "id": "bea32ba1-4fd8-4b79-9d8c-a54a87127e37",
   "metadata": {},
   "source": [
    "##### Chart weekly"
   ]
  },
  {
   "cell_type": "code",
   "execution_count": null,
   "id": "06423dae-0c4e-404e-b704-d3ff9fe01bec",
   "metadata": {
    "tags": []
   },
   "outputs": [],
   "source": [
    "chart_input = df_weekly\\\n",
    "                    .loc[:,['week_starting_date','peer_set_glance_views','brand_gv_share_delta_index']]\\\n",
    "                    .iloc[-13:-1,:]\\\n",
    "                    .astype({'week_starting_date':'datetime64[ns]',\n",
    "                             'peer_set_glance_views':'int64',\n",
    "                             'brand_gv_share_delta_index':'int'\n",
    "                            })\\\n",
    "                    .rename(\n",
    "                        columns = {\n",
    "                            'peer_set_glance_views':'Peer Set Glance Views (axis-less)',\n",
    "                            'brand_gv_share_delta_index':'Glance Views Share Index'\n",
    "                        }\n",
    "                    )\n",
    "chart_input['week_starting_date'] = chart_input.week_starting_date.dt.strftime('%m/%d')\n",
    "chart_input\n"
   ]
  },
  {
   "cell_type": "code",
   "execution_count": null,
   "id": "ea25791f-f8c8-45fe-93a7-80edc93abb34",
   "metadata": {
    "tags": []
   },
   "outputs": [],
   "source": [
    "pres.change_bar_chart(\n",
    "    slide_number=4, \n",
    "    chart_name='Chart 1', \n",
    "    series_names = ['Peer Set Glance Views (axis-less)','Glance Views Share Index'], \n",
    "    df= chart_input, \n",
    "    x_column='week_starting_date', \n",
    "    y_columns=['Peer Set Glance Views (axis-less)','Glance Views Share Index']\n",
    ")\n"
   ]
  },
  {
   "cell_type": "markdown",
   "id": "259d7889-f214-4e87-81c1-b83b6be2be5d",
   "metadata": {},
   "source": [
    "##### Export"
   ]
  },
  {
   "cell_type": "code",
   "execution_count": null,
   "id": "06fc9ee6-3c7b-4542-8908-50b20cafe9b0",
   "metadata": {
    "tags": []
   },
   "outputs": [],
   "source": [
    "# export results\n",
    "export_path = \"./results/\" + input_dic['local'] + ' ' + input_dic['brand_name'] + '/'  + input_dic['category_friendly_name'] + '/output'\n",
    "export_file = input_dic['local']  + '_' + input_dic['brand_name'] + '_BPR_glance_views.pptx'\n",
    "pres.save(export_path + '/' + export_file)\n",
    "del pres"
   ]
  },
  {
   "cell_type": "markdown",
   "id": "ec9a165f-e637-415a-9b17-9c4639f8ec6f",
   "metadata": {},
   "source": [
    "#### 4.3.3 Section: display impressions"
   ]
  },
  {
   "cell_type": "code",
   "execution_count": null,
   "id": "17f69f1f-536b-44e2-bcfb-cea28510340f",
   "metadata": {
    "tags": []
   },
   "outputs": [],
   "source": [
    "# build empty dictionary\n",
    "ppt_dic_dsp = {}"
   ]
  },
  {
   "cell_type": "code",
   "execution_count": null,
   "id": "09b3b0d7-c0e2-4180-abfe-8c6232666916",
   "metadata": {
    "tags": []
   },
   "outputs": [],
   "source": [
    "pres = Presentation(\"./resources/PPT_templates/template_display.pptx\")"
   ]
  },
  {
   "cell_type": "markdown",
   "id": "af811365-b2d0-4c7d-86bf-f8b047d82417",
   "metadata": {},
   "source": [
    "##### General"
   ]
  },
  {
   "cell_type": "code",
   "execution_count": null,
   "id": "032b15f9-e942-448f-a28b-a6950c5812ea",
   "metadata": {
    "tags": []
   },
   "outputs": [],
   "source": [
    "# calculate date objects\n",
    "start_date = datetime.today() - relativedelta(months=12)\n",
    "start_date = start_date.replace(day=1).strftime('%Y-%m-%d')\n",
    "\n",
    "end_date = datetime.today().replace(day=1) - timedelta(days=1)\n",
    "end_date = end_date.strftime('%Y-%m-%d')\n",
    "\n",
    "# Chart titles, comments, group shapes, tables!\n",
    "pres.replace({\n",
    "    \"[brand]\": input_dic['brand_name'],\n",
    "    \"[locale]\": input_dic['local'],\n",
    "    \"[start_date]\": start_date,\n",
    "    \"[end_date]\": end_date,\n",
    "    \"[category]\": input_dic['category_friendly_name'],\n",
    "    \"[root_category]\": input_dic['root_browse_node_name'],\n",
    "    \"[category_url]\": input_dic['category_url']\n",
    "})"
   ]
  },
  {
   "cell_type": "markdown",
   "id": "3b12135d-03f3-4dc3-9402-a32790137614",
   "metadata": {},
   "source": [
    "##### metrics"
   ]
  },
  {
   "cell_type": "code",
   "execution_count": null,
   "id": "67178065-767c-42f1-8785-dcc25d16a646",
   "metadata": {
    "tags": []
   },
   "outputs": [],
   "source": [
    "df_yearly['brand_display_sov_delta']"
   ]
  },
  {
   "cell_type": "code",
   "execution_count": null,
   "id": "ec004969-e2a4-4315-9997-1fc104717b03",
   "metadata": {
    "tags": []
   },
   "outputs": [],
   "source": [
    "# brand insights\n",
    "if (df_yearly['brand_total_display_impressions'] > 0).all():\n",
    "    # we can calculate brand yoy growth rates    \n",
    "    ppt_dic_dsp['D.01'] = 'increased' if df_yearly['brand_display_imp_delta'].iloc[1] > df_yearly['peer_set_display_imp_delta'].iloc[1] else 'decreased'\n",
    "    ppt_dic_dsp['D.02'] = 'grew' if df_yearly['brand_display_imp_delta'].iloc[1] > 0 else 'dropped'\n",
    "    ppt_dic_dsp['D.03'] = str(int(df_yearly['brand_display_imp_delta'].iloc[1]*100))\n",
    "    ppt_dic_dsp['D.04'] = 'grew' if df_yearly['peer_set_display_imp_delta'].iloc[1] > 0 else 'dropped'\n",
    "    ppt_dic_dsp['D.05'] = str(int(df_yearly['peer_set_display_imp_delta'].iloc[1]*100))\n",
    "    ppt_dic_dsp['D.06'] = str(int(df_yearly['brand_display_sov_delta'].iloc[1]*100)) if df_yearly['brand_display_sov_delta'].iloc[1] != float('inf') else '[remove insight]'   \n",
    "    \n",
    "elif (df_yearly['peer_set_total_display_impressions'] > 0).all():\n",
    "    # we cannot calculate brand yoy growth, can calculate peer set yoy growth\n",
    "    ppt_dic_dsp['D.01'] = '[remove insight]'\n",
    "    ppt_dic_dsp['D.02'] = '[remove insight]'\n",
    "    ppt_dic_dsp['D.03'] = '[remove insight]'\n",
    "    ppt_dic_dsp['D.04'] = 'grew' if df_yearly['peer_set_display_imp_delta'].iloc[1] > 0 else 'dropped'\n",
    "    ppt_dic_dsp['D.05'] = str(int(df_yearly['peer_set_display_imp_delta'].iloc[1]*100))\n",
    "    ppt_dic_dsp['D.06'] = '[remove insight]'    \n",
    "    \n",
    "else:\n",
    "    # we cannot calculate any yoy growth rates\n",
    "    ppt_dic_dsp['D.01'] = '[remove insight]'\n",
    "    ppt_dic_dsp['D.02'] = '[remove insight]'\n",
    "    ppt_dic_dsp['D.03'] = '[remove insight]'\n",
    "    ppt_dic_dsp['D.04'] = '[remove insight]'\n",
    "    ppt_dic_dsp['D.05'] = '[remove insight]'\n",
    "    ppt_dic_dsp['D.06'] = '[remove insight]'\n"
   ]
  },
  {
   "cell_type": "code",
   "execution_count": null,
   "id": "8538b129-ac77-4612-983d-2679912e5fc3",
   "metadata": {
    "tags": []
   },
   "outputs": [],
   "source": [
    "# replace\n",
    "pres.replace({\n",
    "    \"[D.01]\": ppt_dic_dsp['D.01'],\n",
    "    \"[D.02]\": ppt_dic_dsp['D.02'],\n",
    "    \"[D.03]\": ppt_dic_dsp['D.03'],\n",
    "    \"[D.04]\": ppt_dic_dsp['D.04'],\n",
    "    \"[D.05]\": ppt_dic_dsp['D.05'],\n",
    "    \"[D.06]\": ppt_dic_dsp['D.06']\n",
    "})"
   ]
  },
  {
   "cell_type": "markdown",
   "id": "459e142c-8946-4614-985b-27b3bc00fdeb",
   "metadata": {},
   "source": [
    "##### Chart quarterly"
   ]
  },
  {
   "cell_type": "code",
   "execution_count": null,
   "id": "0e2eba96-972f-4a53-8b98-97b4c610e21a",
   "metadata": {
    "tags": []
   },
   "outputs": [],
   "source": [
    "chart_input = df_quarterly\\\n",
    "                    .loc[:,['quarter','peer_set_total_display_impressions','brand_display_sov_delta_index']]\\\n",
    "                    .iloc[-4:,:]\\\n",
    "                    .astype({'peer_set_total_display_impressions':'int64','brand_display_sov_delta_index':'int'})\\\n",
    "                    .rename(\n",
    "                        columns = {\n",
    "                            'peer_set_total_display_impressions':'Peer Set Display Impressions (axis-less)',\n",
    "                            'brand_display_sov_delta_index':'Display SOV Index'\n",
    "                        }\n",
    "                    )\n",
    "chart_input"
   ]
  },
  {
   "cell_type": "code",
   "execution_count": null,
   "id": "8350841e-8f45-4d02-9c30-d5be4cd4972c",
   "metadata": {
    "tags": []
   },
   "outputs": [],
   "source": [
    "pres.change_bar_chart(\n",
    "    slide_number=2, \n",
    "    chart_name='Chart 1', \n",
    "    series_names = ['Peer Set Display Impressions (axis-less)','Display SOV Index'], \n",
    "    df=chart_input, \n",
    "    x_column='quarter', \n",
    "    y_columns=['Peer Set Display Impressions (axis-less)','Display SOV Index']\n",
    ")"
   ]
  },
  {
   "cell_type": "markdown",
   "id": "aa850635-c2c6-45fc-bff6-47e73b0481e6",
   "metadata": {},
   "source": [
    "##### Chart monthly"
   ]
  },
  {
   "cell_type": "code",
   "execution_count": null,
   "id": "da64f1f0-0c11-4208-a0a8-92722739884f",
   "metadata": {
    "tags": []
   },
   "outputs": [],
   "source": [
    "chart_input = df_monthly\\\n",
    "                    .loc[:,['month_starting_date','peer_set_total_display_impressions','brand_display_sov_delta_index']]\\\n",
    "                    .iloc[-12:,:]\\\n",
    "                    .astype({'month_starting_date':'datetime64[ns]',\n",
    "                             'peer_set_total_display_impressions':'int64',\n",
    "                             'brand_display_sov_delta_index':'int'\n",
    "                            })\\\n",
    "                    .rename(\n",
    "                        columns = {\n",
    "                            'peer_set_total_display_impressions':'Peer Set Display Impressions (axis-less)',\n",
    "                            'brand_display_sov_delta_index':'Display SOV Index'\n",
    "                        }\n",
    "                    )\n",
    "chart_input['month_starting_date'] = chart_input.month_starting_date.dt.strftime('%b')\n",
    "chart_input\n"
   ]
  },
  {
   "cell_type": "code",
   "execution_count": null,
   "id": "ea896271-5608-42dd-8f75-025523cbd01b",
   "metadata": {
    "tags": []
   },
   "outputs": [],
   "source": [
    "pres.change_bar_chart(\n",
    "    slide_number=3, \n",
    "    chart_name='Chart 1', \n",
    "    series_names = ['Peer Set Display Impressions (axis-less)','Display SOV Index'], \n",
    "    df= chart_input, \n",
    "    x_column='month_starting_date', \n",
    "    y_columns=['Peer Set Display Impressions (axis-less)','Display SOV Index']\n",
    ")\n"
   ]
  },
  {
   "cell_type": "markdown",
   "id": "e12cac48-c346-4796-961d-7a0439c086af",
   "metadata": {},
   "source": [
    "##### Chart weekly"
   ]
  },
  {
   "cell_type": "code",
   "execution_count": null,
   "id": "e953f102-b497-4f8d-b283-cd7d977823cb",
   "metadata": {
    "tags": []
   },
   "outputs": [],
   "source": [
    "chart_input = df_weekly\\\n",
    "                    .loc[:,['week_starting_date','peer_set_total_display_impressions','brand_display_sov_delta_index']]\\\n",
    "                    .iloc[-13:-1,:]\\\n",
    "                    .astype({'week_starting_date':'datetime64[ns]',\n",
    "                             'peer_set_total_display_impressions':'int64',\n",
    "                             'brand_display_sov_delta_index':'int'\n",
    "                            })\\\n",
    "                    .rename(\n",
    "                        columns = {\n",
    "                            'peer_set_total_display_impressions':'Peer Set Display Impressions (axis-less)',\n",
    "                            'brand_display_sov_delta_index':'Display SOV Index'\n",
    "                        }\n",
    "                    )\n",
    "chart_input['week_starting_date'] = chart_input.week_starting_date.dt.strftime('%m/%d')\n",
    "chart_input\n"
   ]
  },
  {
   "cell_type": "code",
   "execution_count": null,
   "id": "c0448141-2377-47d6-bc28-ceee65c9b0ec",
   "metadata": {
    "tags": []
   },
   "outputs": [],
   "source": [
    "pres.change_bar_chart(\n",
    "    slide_number=4, \n",
    "    chart_name='Chart 1', \n",
    "    series_names = ['Peer Set Display Impressions (axis-less)','Display SOV Index'], \n",
    "    df= chart_input, \n",
    "    x_column='week_starting_date', \n",
    "    y_columns=['Peer Set Display Impressions (axis-less)','Display SOV Index']\n",
    ")\n"
   ]
  },
  {
   "cell_type": "markdown",
   "id": "0950638d-2dc2-4272-9413-ac509039ce25",
   "metadata": {},
   "source": [
    "##### Export"
   ]
  },
  {
   "cell_type": "code",
   "execution_count": null,
   "id": "f418f5dd-c3af-4cdd-a9cc-7c30bc0e90e7",
   "metadata": {
    "tags": []
   },
   "outputs": [],
   "source": [
    "# export results\n",
    "export_path = \"./results/\" + input_dic['local'] + ' ' + input_dic['brand_name'] + '/'  + input_dic['category_friendly_name'] + '/output'\n",
    "export_file = input_dic['local']  + '_' + input_dic['brand_name'] + '_BPR_display.pptx'\n",
    "pres.save(export_path + '/' + export_file)\n",
    "del pres"
   ]
  },
  {
   "cell_type": "markdown",
   "id": "377c32ab-3f62-41fd-95b2-aa748e7d2c9d",
   "metadata": {},
   "source": [
    "#### 4.3.4 Section: search impressions"
   ]
  },
  {
   "cell_type": "code",
   "execution_count": null,
   "id": "dcf2898b-185a-4434-9305-63491f9f0849",
   "metadata": {
    "tags": []
   },
   "outputs": [],
   "source": [
    "# build empty dictionary\n",
    "ppt_dic_srch = {}"
   ]
  },
  {
   "cell_type": "code",
   "execution_count": null,
   "id": "45ffef06-adcc-443a-8f74-92db1738ee11",
   "metadata": {
    "tags": []
   },
   "outputs": [],
   "source": [
    "pres = Presentation(\"./resources/PPT_templates/template_search.pptx\")"
   ]
  },
  {
   "cell_type": "markdown",
   "id": "22609fc2-b160-427b-ad91-6f9a1f21c762",
   "metadata": {},
   "source": [
    "##### General"
   ]
  },
  {
   "cell_type": "code",
   "execution_count": null,
   "id": "98891c04-2fab-4d50-8e07-3dbe5e86ef17",
   "metadata": {
    "tags": []
   },
   "outputs": [],
   "source": [
    "# calculate date objects\n",
    "start_date = datetime.today() - relativedelta(months=12)\n",
    "start_date = start_date.replace(day=1).strftime('%Y-%m-%d')\n",
    "\n",
    "end_date = datetime.today().replace(day=1) - timedelta(days=1)\n",
    "end_date = end_date.strftime('%Y-%m-%d')\n",
    "\n",
    "# Chart titles, comments, group shapes, tables!\n",
    "pres.replace({\n",
    "    \"[brand]\": input_dic['brand_name'],\n",
    "    \"[locale]\": input_dic['local'],\n",
    "    \"[start_date]\": start_date,\n",
    "    \"[end_date]\": end_date,\n",
    "    \"[category]\": input_dic['category_friendly_name'],\n",
    "    \"[root_category]\": input_dic['root_browse_node_name'],\n",
    "    \"[category_url]\": input_dic['category_url']\n",
    "})"
   ]
  },
  {
   "cell_type": "markdown",
   "id": "cb2b42de-245b-486e-a78d-6af3ff14f432",
   "metadata": {},
   "source": [
    "##### metrics"
   ]
  },
  {
   "cell_type": "code",
   "execution_count": null,
   "id": "0198ba96-cc12-47da-9fec-40bbdbb55421",
   "metadata": {
    "tags": []
   },
   "outputs": [],
   "source": [
    "# brand insights\n",
    "if (df_yearly['brand_total_search_impressions'] > 0).all():\n",
    "    # we can calculate brand yoy growth rates\n",
    "    ppt_dic_srch['SS.01'] = 'increased' if df_yearly['brand_search_imp_delta'].iloc[1] > df_yearly['peer_set_search_imp_delta'].iloc[1] else 'decreased'\n",
    "    ppt_dic_srch['SS.02'] = 'grew' if df_yearly['brand_search_imp_delta'].iloc[1] > 0 else 'dropped'\n",
    "    ppt_dic_srch['SS.03'] = str(int(df_yearly['brand_search_imp_delta'].iloc[1]*100))\n",
    "    ppt_dic_srch['SS.04'] = 'grew' if df_yearly['peer_set_search_imp_delta'].iloc[1] > 0 else 'dropped'\n",
    "    ppt_dic_srch['SS.05'] = str(int(df_yearly['peer_set_search_imp_delta'].iloc[1]*100))\n",
    "    ppt_dic_srch['SS.06'] = str(int(df_yearly['brand_search_sov_delta'].iloc[1]*100)) if df_yearly['brand_search_sov_delta'].iloc[1] != float('inf') else '[remove insight]'\n",
    "    \n",
    "elif (df_yearly['peer_set_total_search_impressions'] > 0).all():\n",
    "    # we cannot calculate brand yoy growth, can calculate peer set yoy growth\n",
    "    ppt_dic_srch['SS.01'] = '[remove insight]'\n",
    "    ppt_dic_srch['SS.02'] = '[remove insight]'\n",
    "    ppt_dic_srch['SS.03'] = str(int(df_yearly['peer_set_search_imp_delta'].iloc[1]*100))\n",
    "    ppt_dic_srch['SS.04'] = 'increased' if df_yearly['brand_search_imp_delta'].iloc[1] > df_yearly['peer_set_search_imp_delta'].iloc[1] else 'decreased'\n",
    "    ppt_dic_srch['SS.05'] = '[remove insight]'\n",
    "    ppt_dic_srch['SS.06'] = '[remove insight]'    \n",
    "    \n",
    "else:\n",
    "    # we cannot calculate any yoy growth rates\n",
    "    ppt_dic_srch['SS.01'] = '[remove insight]'\n",
    "    ppt_dic_srch['SS.02'] = '[remove insight]'\n",
    "    ppt_dic_srch['SS.03'] = '[remove insight]'\n",
    "    ppt_dic_srch['SS.04'] = '[remove insight]'\n",
    "    ppt_dic_srch['SS.05'] = '[remove insight]'\n",
    "    ppt_dic_srch['SS.06'] = '[remove insight]'\n"
   ]
  },
  {
   "cell_type": "code",
   "execution_count": null,
   "id": "5588c6e4-f414-4e1e-98cb-0d9634741944",
   "metadata": {
    "tags": []
   },
   "outputs": [],
   "source": [
    "# replace\n",
    "pres.replace({\n",
    "    \"[SS.01]\": ppt_dic_srch['SS.01'],\n",
    "    \"[SS.02]\": ppt_dic_srch['SS.02'],\n",
    "    \"[SS.03]\": ppt_dic_srch['SS.03'],\n",
    "    \"[SS.04]\": ppt_dic_srch['SS.04'],\n",
    "    \"[SS.05]\": ppt_dic_srch['SS.05'],\n",
    "    \"[SS.06]\": ppt_dic_srch['SS.06']\n",
    "})"
   ]
  },
  {
   "cell_type": "markdown",
   "id": "d785bc2f-e829-4dfd-821a-2c85279fd8e1",
   "metadata": {},
   "source": [
    "##### Chart quarterly"
   ]
  },
  {
   "cell_type": "code",
   "execution_count": null,
   "id": "5b890554-10a9-4a8b-b1d4-ddf4f8ef0251",
   "metadata": {
    "tags": []
   },
   "outputs": [],
   "source": [
    "chart_input = df_quarterly\\\n",
    "                    .loc[:,['quarter','peer_set_total_search_impressions','brand_search_sov_delta_index']]\\\n",
    "                    .iloc[-4:,:]\\\n",
    "                    .astype({'peer_set_total_search_impressions':'int64','brand_search_sov_delta_index':'int'})\\\n",
    "                    .rename(\n",
    "                        columns = {\n",
    "                            'peer_set_total_search_impressions':'Peer Set Search Impressions (axis-less)',\n",
    "                            'brand_search_sov_delta_index':'Search SOV Index'\n",
    "                        }\n",
    "                    )\n",
    "chart_input"
   ]
  },
  {
   "cell_type": "code",
   "execution_count": null,
   "id": "ecccd9bd-6820-49f9-90c5-868bcf45bb84",
   "metadata": {
    "tags": []
   },
   "outputs": [],
   "source": [
    "pres.change_bar_chart(\n",
    "    slide_number=2, \n",
    "    chart_name='Chart 1', \n",
    "    series_names = ['Peer Set Search Impressions (axis-less)','Search SOV Index'], \n",
    "    df=chart_input, \n",
    "    x_column='quarter', \n",
    "    y_columns=['Peer Set Search Impressions (axis-less)','Search SOV Index']\n",
    ")"
   ]
  },
  {
   "cell_type": "markdown",
   "id": "ab0936cf-8b89-4407-8ca4-0234abab8d35",
   "metadata": {},
   "source": [
    "##### Chart monthly"
   ]
  },
  {
   "cell_type": "code",
   "execution_count": null,
   "id": "bf5443b8-bd96-4843-9bed-bac66ce07449",
   "metadata": {
    "tags": []
   },
   "outputs": [],
   "source": [
    "chart_input = df_monthly\\\n",
    "                    .loc[:,['month_starting_date','peer_set_total_search_impressions','brand_search_sov_delta_index']]\\\n",
    "                    .iloc[-12:,:]\\\n",
    "                    .astype({'month_starting_date':'datetime64[ns]',\n",
    "                             'peer_set_total_search_impressions':'int64',\n",
    "                             'brand_search_sov_delta_index':'int'\n",
    "                            })\\\n",
    "                    .rename(\n",
    "                        columns = {\n",
    "                            'peer_set_total_search_impressions':'Peer Set Search Impressions (axis-less)',\n",
    "                            'brand_search_sov_delta_index':'Search SOV Index'\n",
    "                        }\n",
    "                    )\n",
    "chart_input['month_starting_date'] = chart_input.month_starting_date.dt.strftime('%b')\n",
    "chart_input\n"
   ]
  },
  {
   "cell_type": "code",
   "execution_count": null,
   "id": "0473e930-c4a0-4a55-b3cb-d7358b63aa97",
   "metadata": {
    "tags": []
   },
   "outputs": [],
   "source": [
    "pres.change_bar_chart(\n",
    "    slide_number=3, \n",
    "    chart_name='Chart 1', \n",
    "    series_names = ['Peer Set Search Impressions (axis-less)','Search SOV Index'], \n",
    "    df= chart_input, \n",
    "    x_column='month_starting_date', \n",
    "    y_columns=['Peer Set Search Impressions (axis-less)','Search SOV Index']\n",
    ")\n"
   ]
  },
  {
   "cell_type": "markdown",
   "id": "34e018e8-d02d-4954-89c0-32ee5ba17e63",
   "metadata": {},
   "source": [
    "##### Chart weekly"
   ]
  },
  {
   "cell_type": "code",
   "execution_count": null,
   "id": "066aa15e-71e9-4841-8140-6e281be5bda0",
   "metadata": {
    "tags": []
   },
   "outputs": [],
   "source": [
    "chart_input = df_weekly\\\n",
    "                    .loc[:,['week_starting_date','peer_set_total_search_impressions','brand_search_sov_delta_index']]\\\n",
    "                    .iloc[-13:-1,:]\\\n",
    "                    .astype({'week_starting_date':'datetime64[ns]',\n",
    "                             'peer_set_total_search_impressions':'int64',\n",
    "                             'brand_search_sov_delta_index':'int'\n",
    "                            })\\\n",
    "                    .rename(\n",
    "                        columns = {\n",
    "                            'peer_set_total_search_impressions':'Peer Set Search Impressions (axis-less)',\n",
    "                            'brand_search_sov_delta_index':'Search SOV Index'\n",
    "                        }\n",
    "                    )\n",
    "chart_input['week_starting_date'] = chart_input.week_starting_date.dt.strftime('%m/%d')\n",
    "chart_input\n"
   ]
  },
  {
   "cell_type": "code",
   "execution_count": null,
   "id": "8b00c3c0-d37a-43d2-95c3-1b21161e25f8",
   "metadata": {
    "tags": []
   },
   "outputs": [],
   "source": [
    "pres.change_bar_chart(\n",
    "    slide_number=4, \n",
    "    chart_name='Chart 1', \n",
    "    series_names = ['Peer Set Search Impressions (axis-less)','Search SOV Index'], \n",
    "    df= chart_input, \n",
    "    x_column='week_starting_date', \n",
    "    y_columns=['Peer Set Search Impressions (axis-less)','Search SOV Index']\n",
    ")\n"
   ]
  },
  {
   "cell_type": "markdown",
   "id": "e88b844a-a6d0-4c2d-bcf4-5af6a0bf601d",
   "metadata": {},
   "source": [
    "##### Export"
   ]
  },
  {
   "cell_type": "code",
   "execution_count": null,
   "id": "c744fd0e-d86d-4462-a1b0-bf478ae910f1",
   "metadata": {
    "tags": []
   },
   "outputs": [],
   "source": [
    "# export results\n",
    "export_path = \"./results/\" + input_dic['local'] + ' ' + input_dic['brand_name'] + '/'  + input_dic['category_friendly_name'] + '/output'\n",
    "export_file = input_dic['local']  + '_' + input_dic['brand_name'] + '_BPR_search.pptx'\n",
    "pres.save(export_path + '/' + export_file)\n",
    "del pres"
   ]
  },
  {
   "cell_type": "markdown",
   "id": "cff9b140-cfb3-41bd-aef2-39cbd1636a19",
   "metadata": {},
   "source": [
    "#### 4.3.5 Section: conversion"
   ]
  },
  {
   "cell_type": "code",
   "execution_count": null,
   "id": "3e92dfdd-81b0-4091-b6e0-79fe22c9a2d6",
   "metadata": {
    "tags": []
   },
   "outputs": [],
   "source": [
    "pres = Presentation(\"./resources/PPT_templates/template_conversion_rate.pptx\")"
   ]
  },
  {
   "cell_type": "markdown",
   "id": "2f5f150d-6a29-4363-a9da-8e54e77b53c7",
   "metadata": {},
   "source": [
    "##### General"
   ]
  },
  {
   "cell_type": "code",
   "execution_count": null,
   "id": "c5efd339-ec39-4145-b535-ed3814b1876a",
   "metadata": {
    "tags": []
   },
   "outputs": [],
   "source": [
    "# calculate date objects\n",
    "start_date = datetime.today() - relativedelta(months=12)\n",
    "start_date = start_date.replace(day=1).strftime('%Y-%m-%d')\n",
    "\n",
    "end_date = datetime.today().replace(day=1) - timedelta(days=1)\n",
    "end_date = end_date.strftime('%Y-%m-%d')\n",
    "\n",
    "# Chart titles, comments, group shapes, tables!\n",
    "pres.replace({\n",
    "    \"[brand]\": input_dic['brand_name'],\n",
    "    \"[locale]\": input_dic['local'],\n",
    "    \"[start_date]\": start_date,\n",
    "    \"[end_date]\": end_date,\n",
    "    \"[category]\": input_dic['category_friendly_name'],\n",
    "    \"[root_category]\": input_dic['root_browse_node_name'],\n",
    "    \"[category_url]\": input_dic['category_url']\n",
    "})"
   ]
  },
  {
   "cell_type": "markdown",
   "id": "587e7830-9767-4731-b100-96701883b6b3",
   "metadata": {},
   "source": [
    "##### metrics"
   ]
  },
  {
   "cell_type": "code",
   "execution_count": null,
   "id": "2a3c5ee0-391f-4acb-93b8-29ddf74050a6",
   "metadata": {
    "tags": []
   },
   "outputs": [],
   "source": [
    "# brand insights\n",
    "if (df_yearly['brand_cvr'] > 0).all():\n",
    "    # we can calculate brand yoy growth rates\n",
    "    ppt_dic_srch['CV.01'] = 'higher' if df_yearly['brand_cvr'].iloc[1] > df_yearly['peer_set_cvr'].iloc[1] else 'lower'\n",
    "    ppt_dic_srch['CV.02'] = 'increased' if df_yearly['brand_cvr'].iloc[1] > df_yearly['brand_cvr'].iloc[0] else 'decreased'\n",
    "    ppt_dic_srch['CV.03'] = str(int(df_yearly['brand_cvr'].iloc[0]*100))\n",
    "    ppt_dic_srch['CV.04'] = str(int(df_yearly['brand_cvr'].iloc[1]*100))\n",
    "    ppt_dic_srch['CV.05'] = str(abs(round((df_yearly['brand_cvr'].iloc[1]/df_yearly['peer_set_cvr'].iloc[1]-1)*100)))\n",
    "    \n",
    "else:\n",
    "    # we cannot calculate any yoy growth rates\n",
    "    ppt_dic_srch['CV.01'] = '[remove insight]'\n",
    "    ppt_dic_srch['CV.02'] = '[remove insight]'\n",
    "    ppt_dic_srch['CV.03'] = '[remove insight]'\n",
    "    ppt_dic_srch['CV.04'] = '[remove insight]'\n",
    "    ppt_dic_srch['CV.05'] = '[remove insight]'\n",
    "    ppt_dic_srch['CV.06'] = '[remove insight]'\n"
   ]
  },
  {
   "cell_type": "code",
   "execution_count": null,
   "id": "a240002c-2bdd-46f2-8b87-c1a1ff464439",
   "metadata": {
    "tags": []
   },
   "outputs": [],
   "source": [
    "# replace\n",
    "pres.replace({\n",
    "    \"[CV.01]\": ppt_dic_srch['CV.01'],\n",
    "    \"[CV.02]\": ppt_dic_srch['CV.02'],\n",
    "    \"[CV.03]\": ppt_dic_srch['CV.03'],\n",
    "    \"[CV.04]\": ppt_dic_srch['CV.04'],\n",
    "    \"[CV.05]\": ppt_dic_srch['CV.05']\n",
    "})"
   ]
  },
  {
   "cell_type": "markdown",
   "id": "df274cca-e970-4b29-bdb1-4640725ee8fb",
   "metadata": {},
   "source": [
    "##### Chart quarterly"
   ]
  },
  {
   "cell_type": "code",
   "execution_count": null,
   "id": "323a885c-5507-40b3-bce0-698137b0e336",
   "metadata": {
    "tags": []
   },
   "outputs": [],
   "source": [
    "chart_input = df_quarterly\\\n",
    "                    .loc[:,['quarter','brand_cvr','brand_cvr_index']]\\\n",
    "                    .iloc[-4:,:]\\\n",
    "                    .astype({'brand_cvr_index':'int'})\\\n",
    "                    .rename(\n",
    "                        columns = {\n",
    "                            'brand_cvr':'Brand CVR (left)',\n",
    "                            'brand_cvr_index':'CVR Index'\n",
    "                        }\n",
    "                    )\n",
    "chart_input\n"
   ]
  },
  {
   "cell_type": "code",
   "execution_count": null,
   "id": "e7bbdfd9-6907-49d3-8648-09b3a01dc680",
   "metadata": {
    "tags": []
   },
   "outputs": [],
   "source": [
    "pres.change_bar_chart(\n",
    "    slide_number=2, \n",
    "    chart_name='Chart 1', \n",
    "    series_names = ['Brand CVR (left)','CVR Index'], \n",
    "    df=chart_input, \n",
    "    x_column='quarter', \n",
    "    y_columns=['Brand CVR (left)','CVR Index']\n",
    ")"
   ]
  },
  {
   "cell_type": "markdown",
   "id": "7531b5e7-2d63-403e-863f-98b6bc8d980d",
   "metadata": {},
   "source": [
    "##### Chart monthly"
   ]
  },
  {
   "cell_type": "code",
   "execution_count": null,
   "id": "cc158ca5-9c7d-4ef1-aa93-8ad21d52b970",
   "metadata": {
    "tags": []
   },
   "outputs": [],
   "source": [
    "chart_input = df_monthly\\\n",
    "                    .loc[:,['month_starting_date','brand_cvr','brand_cvr_index']]\\\n",
    "                    .iloc[-12:,:]\\\n",
    "                    .astype({'month_starting_date':'datetime64[ns]',\n",
    "                             'brand_cvr_index':'int'\n",
    "                            })\\\n",
    "                    .rename(\n",
    "                        columns = {\n",
    "                            'brand_cvr':'Brand CVR (left)',\n",
    "                            'brand_cvr_index':'CVR Index'\n",
    "                        }\n",
    "                    )\n",
    "chart_input['month_starting_date'] = chart_input.month_starting_date.dt.strftime('%b')\n",
    "chart_input\n"
   ]
  },
  {
   "cell_type": "code",
   "execution_count": null,
   "id": "9410ec0f-2b97-4de1-a718-2aeb32148d49",
   "metadata": {
    "tags": []
   },
   "outputs": [],
   "source": [
    "pres.change_bar_chart(\n",
    "    slide_number=3, \n",
    "    chart_name='Chart 1', \n",
    "    series_names = ['Brand CVR (left)','CVR Index'], \n",
    "    df= chart_input, \n",
    "    x_column='month_starting_date', \n",
    "    y_columns=['Brand CVR (left)','CVR Index']\n",
    ")\n"
   ]
  },
  {
   "cell_type": "markdown",
   "id": "d5fdbcf6-4352-47a6-b27a-438258cce1ea",
   "metadata": {},
   "source": [
    "##### Chart weekly"
   ]
  },
  {
   "cell_type": "code",
   "execution_count": null,
   "id": "7076e904-fb32-49fe-b6ea-52a6592612b9",
   "metadata": {
    "tags": []
   },
   "outputs": [],
   "source": [
    "chart_input = df_weekly\\\n",
    "                    .loc[:,['week_starting_date','brand_cvr','brand_cvr_index']]\\\n",
    "                    .iloc[-13:-1,:]\\\n",
    "                    .astype({'week_starting_date':'datetime64[ns]',\n",
    "                             'brand_cvr_index':'int'\n",
    "                            })\\\n",
    "                    .rename(\n",
    "                        columns = {\n",
    "                            'brand_cvr':'Brand CVR (left)',\n",
    "                            'brand_cvr_index':'CVR Index'\n",
    "                        }\n",
    "                    )\n",
    "chart_input['week_starting_date'] = chart_input.week_starting_date.dt.strftime('%m/%d')\n",
    "chart_input\n"
   ]
  },
  {
   "cell_type": "code",
   "execution_count": null,
   "id": "e74b47b8-3686-465d-8a30-52fb07028063",
   "metadata": {
    "tags": []
   },
   "outputs": [],
   "source": [
    "pres.change_bar_chart(\n",
    "    slide_number=4, \n",
    "    chart_name='Chart 1', \n",
    "    series_names = ['Brand CVR (left)','CVR Index'],\n",
    "    df= chart_input, \n",
    "    x_column='week_starting_date', \n",
    "    y_columns=['Brand CVR (left)','CVR Index']\n",
    ")\n"
   ]
  },
  {
   "cell_type": "markdown",
   "id": "85c24072-71e5-4f33-9afd-170e7b9db87f",
   "metadata": {},
   "source": [
    "##### Export"
   ]
  },
  {
   "cell_type": "code",
   "execution_count": null,
   "id": "655a20fb-8b9c-4c51-a61c-02f8c2aea31a",
   "metadata": {
    "tags": []
   },
   "outputs": [],
   "source": [
    "# export results\n",
    "export_path = \"./results/\" + input_dic['local'] + ' ' + input_dic['brand_name'] + '/'  + input_dic['category_friendly_name'] + '/output'\n",
    "export_file = input_dic['local']  + '_' + input_dic['brand_name'] + '_BPR_conversion.pptx'\n",
    "pres.save(export_path + '/' + export_file)\n",
    "del pres"
   ]
  },
  {
   "cell_type": "markdown",
   "id": "524f8512-711c-4380-9edc-ab9abcf71fcf",
   "metadata": {},
   "source": [
    "### 4.4 Section: insights"
   ]
  },
  {
   "cell_type": "code",
   "execution_count": null,
   "id": "ab3cf813-a35f-4a3e-8b0b-dd605d81d62d",
   "metadata": {
    "tags": []
   },
   "outputs": [],
   "source": [
    "# build empty dictionary\n",
    "# ppt_dic_overlap = {}"
   ]
  },
  {
   "cell_type": "code",
   "execution_count": null,
   "id": "8807d08a-e6ee-4cf3-bbb9-bce0b50867cd",
   "metadata": {
    "tags": []
   },
   "outputs": [],
   "source": [
    "pres = Presentation(\"./resources/PPT_templates/template_insights.pptx\")"
   ]
  },
  {
   "cell_type": "markdown",
   "id": "bbda58ce-b0e5-492d-b2ec-87bd5f8d5181",
   "metadata": {},
   "source": [
    "##### General"
   ]
  },
  {
   "cell_type": "code",
   "execution_count": null,
   "id": "2fce21a9-d2db-41be-b5b9-7b186b51a4dc",
   "metadata": {
    "tags": []
   },
   "outputs": [],
   "source": [
    "# calculate date objects\n",
    "start_date = datetime.today() - relativedelta(months=12)\n",
    "start_date = start_date.replace(day=1).strftime('%Y-%m-%d')\n",
    "\n",
    "end_date = datetime.today().replace(day=1) - timedelta(days=1)\n",
    "end_date = end_date.strftime('%Y-%m-%d')\n",
    "\n",
    "# Chart titles, comments, group shapes, tables!\n",
    "pres.replace({\n",
    "    \"[brand]\": input_dic['brand_name'],\n",
    "    \"[locale]\": input_dic['local'],\n",
    "    \"[start_date]\": start_date,\n",
    "    \"[end_date]\": end_date,\n",
    "    \"[category]\": input_dic['category_friendly_name'],\n",
    "    \"[root_category]\": input_dic['root_browse_node_name'],\n",
    "    \"[category_url]\": input_dic['category_url']\n",
    "})"
   ]
  },
  {
   "cell_type": "markdown",
   "id": "441031c3-1393-473f-abce-f0ff5a702f5b",
   "metadata": {},
   "source": [
    "##### Chart monthly: sales vs glance views"
   ]
  },
  {
   "cell_type": "code",
   "execution_count": null,
   "id": "c367d2db-f63f-4def-83b2-aa929adf5bbf",
   "metadata": {
    "tags": []
   },
   "outputs": [],
   "source": [
    "chart_input = df_monthly\\\n",
    "                    .loc[:,['month_starting_date','brand_revenue_share_delta_index','brand_gv_share_delta_index']]\\\n",
    "                    .iloc[-12:,:]\\\n",
    "                    .astype({'month_starting_date':'datetime64[ns]',\n",
    "                             'brand_revenue_share_delta_index':'int64',\n",
    "                             'brand_gv_share_delta_index':'int'\n",
    "                            })\\\n",
    "                    .rename(\n",
    "                        columns = {\n",
    "                            'brand_revenue_share_delta_index':'Sales Share Index',\n",
    "                            'brand_gv_share_delta_index':'Glance Views Share Index'\n",
    "                        }\n",
    "                    )\n",
    "chart_input['month_starting_date'] = chart_input.month_starting_date.dt.strftime('%b')\n",
    "chart_input"
   ]
  },
  {
   "cell_type": "code",
   "execution_count": null,
   "id": "aa16ae24-8ffb-49a1-88ea-d06217d4c01d",
   "metadata": {
    "tags": []
   },
   "outputs": [],
   "source": [
    "pres.change_bar_chart(\n",
    "    slide_number=1, \n",
    "    chart_name='Chart 1', \n",
    "    series_names = ['Sales Share Index','Glance Views Share Index'], \n",
    "    df= chart_input, \n",
    "    x_column='month_starting_date', \n",
    "    y_columns=['Sales Share Index','Glance Views Share Index']\n",
    ")\n"
   ]
  },
  {
   "cell_type": "markdown",
   "id": "906b99cc-e1f0-4453-a65a-5c1dfd0fa446",
   "metadata": {},
   "source": [
    "##### Chart monthly: glance views vs search/display"
   ]
  },
  {
   "cell_type": "code",
   "execution_count": null,
   "id": "44aea321-1966-4968-a9e7-95e4531bad76",
   "metadata": {
    "tags": []
   },
   "outputs": [],
   "source": [
    "chart_input = df_monthly\\\n",
    "                    .loc[:,['month_starting_date','brand_gv_share_delta_index','brand_display_sov_delta_index','brand_search_sov_delta_index']]\\\n",
    "                    .iloc[-12:,:]\\\n",
    "                    .astype({'month_starting_date':'datetime64[ns]',\n",
    "                             'brand_gv_share_delta_index':'int',\n",
    "                             'brand_display_sov_delta_index':'int',\n",
    "                             'brand_search_sov_delta_index':'int'                             \n",
    "                            })\\\n",
    "                    .rename(\n",
    "                        columns = {\n",
    "                            'brand_gv_share_delta_index':'Glance Views Share Index',\n",
    "                            'brand_display_sov_delta_index':'Display SOV Index',\n",
    "                            'brand_search_sov_delta_index':'Search SOV Index'\n",
    "                        }\n",
    "                    )\n",
    "chart_input['month_starting_date'] = chart_input.month_starting_date.dt.strftime('%b')\n",
    "chart_input"
   ]
  },
  {
   "cell_type": "code",
   "execution_count": null,
   "id": "17c39831-c16f-427e-984f-c27af9bc92c5",
   "metadata": {
    "tags": []
   },
   "outputs": [],
   "source": [
    "pres.change_bar_chart(\n",
    "    slide_number=2, \n",
    "    chart_name='Chart 1', \n",
    "    series_names = ['Glance Views Share Index','Display SOV Index','Search SOV Index'], \n",
    "    df= chart_input, \n",
    "    x_column='month_starting_date', \n",
    "    y_columns=['Glance Views Share Index','Display SOV Index','Search SOV Index']\n",
    ")\n"
   ]
  },
  {
   "cell_type": "markdown",
   "id": "1b4d36c5-5191-491c-aed6-33afead36308",
   "metadata": {},
   "source": [
    "##### Chart monthly: sales vs search/display"
   ]
  },
  {
   "cell_type": "code",
   "execution_count": null,
   "id": "db818f62-0506-4d9b-b77f-487dd5b968e1",
   "metadata": {
    "tags": []
   },
   "outputs": [],
   "source": [
    "chart_input = df_monthly\\\n",
    "                    .loc[:,['month_starting_date','brand_revenue_share_delta_index','brand_display_sov_delta_index','brand_search_sov_delta_index']]\\\n",
    "                    .iloc[-12:,:]\\\n",
    "                    .astype({'month_starting_date':'datetime64[ns]',\n",
    "                             'brand_revenue_share_delta_index':'int',\n",
    "                             'brand_display_sov_delta_index':'int',\n",
    "                             'brand_search_sov_delta_index':'int'                             \n",
    "                            })\\\n",
    "                    .rename(\n",
    "                        columns = {\n",
    "                            'brand_revenue_share_delta_index':'Sales Share Index',\n",
    "                            'brand_display_sov_delta_index':'Display SOV Index',\n",
    "                            'brand_search_sov_delta_index':'Search SOV Index'\n",
    "                        }\n",
    "                    )\n",
    "chart_input['month_starting_date'] = chart_input.month_starting_date.dt.strftime('%b')\n",
    "chart_input"
   ]
  },
  {
   "cell_type": "code",
   "execution_count": null,
   "id": "78581906-1b80-4054-bc0f-03de02c2bfec",
   "metadata": {
    "tags": []
   },
   "outputs": [],
   "source": [
    "pres.change_bar_chart(\n",
    "    slide_number=3, \n",
    "    chart_name='Chart 1', \n",
    "    series_names = ['Sales Share Index','Display SOV Index','Search SOV Index'], \n",
    "    df= chart_input, \n",
    "    x_column='month_starting_date', \n",
    "    y_columns=['Sales Share Index','Display SOV Index','Search SOV Index']\n",
    ")\n"
   ]
  },
  {
   "cell_type": "markdown",
   "id": "11c85864-ac38-468d-8d13-fb444f4940d7",
   "metadata": {},
   "source": [
    "##### Export"
   ]
  },
  {
   "cell_type": "code",
   "execution_count": null,
   "id": "cc3d59b9-8c12-4653-9f72-9eda1df30f7c",
   "metadata": {
    "tags": []
   },
   "outputs": [],
   "source": [
    "# export results\n",
    "export_path = \"./results/\" + input_dic['local'] + ' ' + input_dic['brand_name'] + '/'  + input_dic['category_friendly_name'] + '/output'\n",
    "export_file = input_dic['local']  + '_' + input_dic['brand_name'] + '_BPR_overlap.pptx'\n",
    "pres.save(export_path + '/' + export_file)\n",
    "del pres"
   ]
  },
  {
   "cell_type": "markdown",
   "id": "349a7d93-d76c-48a6-9271-49a837e60e16",
   "metadata": {},
   "source": [
    "### 4.5 Section: A4 (pager) report generation"
   ]
  },
  {
   "cell_type": "markdown",
   "id": "480b0c84-b0ba-462d-ba4b-bdf5b1eb8e3f",
   "metadata": {
    "tags": [],
    "toc-hr-collapsed": true
   },
   "source": [
    "#### 4.5.1 Section: brand performance report - version 1"
   ]
  },
  {
   "cell_type": "code",
   "execution_count": null,
   "id": "5eb99ce8-a4ef-48b6-b3b5-37501725e9c3",
   "metadata": {
    "tags": []
   },
   "outputs": [],
   "source": [
    "# build empty dictionary\n",
    "# ppt_dic_s = {}"
   ]
  },
  {
   "cell_type": "code",
   "execution_count": null,
   "id": "067bfcd5-055b-436e-bfd3-44e24e52335e",
   "metadata": {
    "tags": []
   },
   "outputs": [],
   "source": [
    "pres = Presentation(\"./resources/PPT_templates/template_brand_performance_report_v1.pptx\")"
   ]
  },
  {
   "cell_type": "markdown",
   "id": "a87107df-e5c8-4ab3-addb-b303ed5e8363",
   "metadata": {},
   "source": [
    "##### General"
   ]
  },
  {
   "cell_type": "code",
   "execution_count": null,
   "id": "32730524-dcc1-4942-af1f-3ae809443cb6",
   "metadata": {
    "tags": []
   },
   "outputs": [],
   "source": [
    "# calculate date objects\n",
    "start_date = datetime.today() - relativedelta(months=12)\n",
    "start_date = start_date.replace(day=1).strftime('%Y-%m-%d')\n",
    "\n",
    "end_date = datetime.today().replace(day=1) - timedelta(days=1)\n",
    "end_date = end_date.strftime('%Y-%m-%d')\n",
    "\n",
    "# Chart titles, comments, group shapes, tables!\n",
    "pres.replace({\n",
    "    \"[brand]\": input_dic['brand_name'],\n",
    "    \"[locale]\": input_dic['local'],\n",
    "    \"[start_date]\": start_date,\n",
    "    \"[end_date]\": end_date,\n",
    "    \"[category]\": input_dic['category_friendly_name'],\n",
    "    \"[root_category]\": input_dic['root_browse_node_name'],\n",
    "    \"[category_url]\": input_dic['category_url']\n",
    "})"
   ]
  },
  {
   "cell_type": "markdown",
   "id": "b6fc1897-190d-44f5-855d-3f87125da6d3",
   "metadata": {},
   "source": [
    "##### metrics"
   ]
  },
  {
   "cell_type": "code",
   "execution_count": null,
   "id": "39344b51-22ad-421b-868b-e6470cd222dc",
   "metadata": {
    "tags": []
   },
   "outputs": [],
   "source": [
    "# brand insights\n",
    "if (df_yearly['brand_ordered_revenue'] > 0).all():\n",
    "    # we can calculate brand yoy growth rates\n",
    "    ppt_dic_s['S.01'] = 'increased' if df_yearly['brand_revenue_delta'].iloc[1] > df_yearly['peer_set_revenue_delta'].iloc[1] else 'decreased'\n",
    "    ppt_dic_s['S.02'] = 'grew' if df_yearly['brand_revenue_delta'].iloc[1] > 0 else 'dropped'\n",
    "    ppt_dic_s['S.03'] = str(int(df_yearly['brand_revenue_delta'].iloc[1]*100))\n",
    "    ppt_dic_s['S.04'] = 'grew' if df_yearly['peer_set_revenue_delta'].iloc[1] > 0 else 'dropped'\n",
    "    ppt_dic_s['S.05'] = str(int(df_yearly['peer_set_revenue_delta'].iloc[1]*100))\n",
    "    ppt_dic_s['S.06'] = str(round(df_yearly['brand_revenue_share'].iloc[0]*100,2))\n",
    "    ppt_dic_s['S.07'] = str(round(df_yearly['brand_revenue_share'].iloc[1]*100,2))\n",
    "    ppt_dic_s['S.08'] = str(int(df_yearly['brand_revenue_share_delta'].iloc[1]*100)) if df_yearly['brand_revenue_share_delta'].iloc[1] != float('inf') else '[remove insight]'   \n",
    "elif (df_yearly['peer_set_ordered_revenue'] > 0).all():\n",
    "    # we cannot calculate brand yoy growth, can calculate peer set yoy growth\n",
    "    ppt_dic_s['S.01'] = '[remove insight]'\n",
    "    ppt_dic_s['S.02'] = '[remove insight]'\n",
    "    ppt_dic_s['S.03'] = '[remove insight]'\n",
    "    ppt_dic_s['S.04'] = 'grew' if df_yearly['peer_set_revenue_delta'].iloc[1] > 0 else 'dropped'\n",
    "    ppt_dic_s['S.05'] = str(int(df_yearly['peer_set_revenue_delta'].iloc[1]*100))\n",
    "    ppt_dic_s['S.06'] = '[remove insight]'\n",
    "    ppt_dic_s['S.07'] = '[remove insight]'\n",
    "    ppt_dic_s['S.08'] = '[remove insight]'\n",
    "else:\n",
    "    # we cannot calculate any yoy growth rates\n",
    "    ppt_dic_s['S.01'] = '[remove insight]'\n",
    "    ppt_dic_s['S.02'] = '[remove insight]'\n",
    "    ppt_dic_s['S.03'] = '[remove insight]'\n",
    "    ppt_dic_s['S.04'] = '[remove insight]'\n",
    "    ppt_dic_s['S.05'] = '[remove insight]'\n",
    "    ppt_dic_s['S.06'] = '[remove insight]'\n",
    "    ppt_dic_s['S.07'] = '[remove insight]'\n",
    "    ppt_dic_s['S.08'] = '[remove insight]'\n"
   ]
  },
  {
   "cell_type": "code",
   "execution_count": null,
   "id": "7a9b2ade-28a8-49f6-a683-29d4bc667bda",
   "metadata": {
    "tags": []
   },
   "outputs": [],
   "source": [
    "# replace\n",
    "pres.replace({\n",
    "    \"[S.01]\": ppt_dic_s['S.01'],\n",
    "    \"[S.02]\": ppt_dic_s['S.02'],\n",
    "    \"[S.03]\": ppt_dic_s['S.03'],\n",
    "    \"[S.04]\": ppt_dic_s['S.04'],\n",
    "    \"[S.05]\": ppt_dic_s['S.05'],\n",
    "    \"[S.06]\": ppt_dic_s['S.06'],\n",
    "    \"[S.07]\": ppt_dic_s['S.07'],\n",
    "    \"[S.08]\": ppt_dic_s['S.08']\n",
    "})"
   ]
  },
  {
   "cell_type": "markdown",
   "id": "d5ada872-1ee8-4c12-af04-1609bd6f31d6",
   "metadata": {},
   "source": [
    "#### charts sales"
   ]
  },
  {
   "cell_type": "markdown",
   "id": "42df3db0-dac4-41da-a06f-0e719da9514a",
   "metadata": {},
   "source": [
    "##### Chart quarterly"
   ]
  },
  {
   "cell_type": "code",
   "execution_count": null,
   "id": "722252fa-87f2-4267-9ffb-1da8b71a13b6",
   "metadata": {
    "tags": []
   },
   "outputs": [],
   "source": [
    "chart_input = df_quarterly\\\n",
    "                    .loc[:,['quarter','peer_set_ordered_revenue','brand_revenue_share_delta_index']]\\\n",
    "                    .iloc[-4:,:]\\\n",
    "                    .astype({'peer_set_ordered_revenue':'int64','brand_revenue_share_delta_index':'int'})\\\n",
    "                    .rename(\n",
    "                        columns = {\n",
    "                            'peer_set_ordered_revenue':'Peer Set Sales Revenue (axis-less)',\n",
    "                            'brand_revenue_share_delta_index':'Sales Share Index'\n",
    "                        }\n",
    "                    )\n",
    "chart_input"
   ]
  },
  {
   "cell_type": "code",
   "execution_count": null,
   "id": "4c18c2d8-a38c-4a4c-896a-4e0e974fc1cb",
   "metadata": {
    "tags": []
   },
   "outputs": [],
   "source": [
    "pres.change_bar_chart(\n",
    "    slide_number=2, \n",
    "    chart_name='sales_chart', \n",
    "    series_names = ['Peer Set Sales Revenue (axis-less)','Sales Share Index'], \n",
    "    df=chart_input, \n",
    "    x_column='quarter', \n",
    "    y_columns=['Peer Set Sales Revenue (axis-less)','Sales Share Index']\n",
    ")"
   ]
  },
  {
   "cell_type": "markdown",
   "id": "0f9e117c-7f76-4540-9964-731592aa2813",
   "metadata": {},
   "source": [
    "##### Chart monthly"
   ]
  },
  {
   "cell_type": "code",
   "execution_count": null,
   "id": "34b7b1cc-0a6a-448c-8161-8d68b503328f",
   "metadata": {
    "tags": []
   },
   "outputs": [],
   "source": [
    "chart_input = df_monthly\\\n",
    "                    .loc[:,['month_starting_date','peer_set_ordered_revenue','brand_revenue_share_delta_index']]\\\n",
    "                    .iloc[-12:,:]\\\n",
    "                    .astype({'month_starting_date':'datetime64[ns]',\n",
    "                             'peer_set_ordered_revenue':'int64',\n",
    "                             'brand_revenue_share_delta_index':'int'\n",
    "                            })\\\n",
    "                    .rename(\n",
    "                        columns = {\n",
    "                            'peer_set_ordered_revenue':'Peer Set Sales Revenue (axis-less)',\n",
    "                            'brand_revenue_share_delta_index':'Sales Share Index'\n",
    "                        }\n",
    "                    )\n",
    "chart_input['month_starting_date'] = chart_input.month_starting_date.dt.strftime('%b')\n",
    "chart_input"
   ]
  },
  {
   "cell_type": "code",
   "execution_count": null,
   "id": "de940567-ca01-477d-a341-e4fb692a561a",
   "metadata": {
    "tags": []
   },
   "outputs": [],
   "source": [
    "pres.change_bar_chart(\n",
    "    slide_number=1, \n",
    "    chart_name='sales_chart', \n",
    "    series_names = ['Peer Set Sales Revenue (axis-less)','Sales Share Index'], \n",
    "    df= chart_input, \n",
    "    x_column='month_starting_date', \n",
    "    y_columns=['Peer Set Sales Revenue (axis-less)','Sales Share Index']\n",
    ")"
   ]
  },
  {
   "cell_type": "markdown",
   "id": "29ad4081-0408-4483-8a9d-47ac40a6dd26",
   "metadata": {},
   "source": [
    "#### charts glance views"
   ]
  },
  {
   "cell_type": "markdown",
   "id": "1daca400-47b9-45f7-8bf8-2a768e609163",
   "metadata": {},
   "source": [
    "##### Chart quarterly"
   ]
  },
  {
   "cell_type": "code",
   "execution_count": null,
   "id": "7bb7d439-e439-4951-99cb-c993df5c4b96",
   "metadata": {
    "tags": []
   },
   "outputs": [],
   "source": [
    "chart_input = df_quarterly\\\n",
    "                    .loc[:,['quarter','peer_set_glance_views','brand_gv_share_delta_index']]\\\n",
    "                    .iloc[-4:,:]\\\n",
    "                    .astype({'peer_set_glance_views':'int64','brand_gv_share_delta_index':'int'})\\\n",
    "                    .rename(\n",
    "                        columns = {\n",
    "                            'peer_set_glance_views':'Peer Set Glance Views (axis-less)',\n",
    "                            'brand_gv_share_delta_index':'Glance Views Share Index'\n",
    "                        }\n",
    "                    )\n",
    "chart_input"
   ]
  },
  {
   "cell_type": "code",
   "execution_count": null,
   "id": "6047fddd-35ec-4da9-b8fe-234d068b7999",
   "metadata": {
    "tags": []
   },
   "outputs": [],
   "source": [
    "pres.change_bar_chart(\n",
    "    slide_number=2, \n",
    "    chart_name='gvs_chart', \n",
    "    series_names = ['Peer Set Glance Views (axis-less)','Glance Views Share Index'], \n",
    "    df=chart_input, \n",
    "    x_column='quarter', \n",
    "    y_columns=['Peer Set Glance Views (axis-less)','Glance Views Share Index']\n",
    ")"
   ]
  },
  {
   "cell_type": "markdown",
   "id": "92202a4c-4bb7-4017-937f-86d3558bcafa",
   "metadata": {},
   "source": [
    "##### Chart monthly"
   ]
  },
  {
   "cell_type": "code",
   "execution_count": null,
   "id": "5258ca3f-3e4b-4fe4-be33-9e89d4bbc291",
   "metadata": {
    "tags": []
   },
   "outputs": [],
   "source": [
    "chart_input = df_monthly\\\n",
    "                    .loc[:,['month_starting_date','peer_set_glance_views','brand_gv_share_delta_index']]\\\n",
    "                    .iloc[-12:,:]\\\n",
    "                    .astype({'month_starting_date':'datetime64[ns]',\n",
    "                             'peer_set_glance_views':'int64',\n",
    "                             'brand_gv_share_delta_index':'int'\n",
    "                            })\\\n",
    "                    .rename(\n",
    "                        columns = {\n",
    "                            'peer_set_glance_views':'Peer Set Glance Views (axis-less)',\n",
    "                            'brand_gv_share_delta_index':'Glance Views Share Index'\n",
    "                        }\n",
    "                    )\n",
    "chart_input['month_starting_date'] = chart_input.month_starting_date.dt.strftime('%b')\n",
    "chart_input\n"
   ]
  },
  {
   "cell_type": "code",
   "execution_count": null,
   "id": "dfed6de5-10bd-43fc-b5d5-2848ec0ab373",
   "metadata": {
    "tags": []
   },
   "outputs": [],
   "source": [
    "pres.change_bar_chart(\n",
    "    slide_number=1, \n",
    "    chart_name='gvs_chart', \n",
    "    series_names = ['Peer Set Glance Views (axis-less)','Glance Views Share Index'], \n",
    "    df= chart_input, \n",
    "    x_column='month_starting_date', \n",
    "    y_columns=['Peer Set Glance Views (axis-less)','Glance Views Share Index']\n",
    ")\n"
   ]
  },
  {
   "cell_type": "markdown",
   "id": "b2d00410-0c9f-4894-bcb3-043e81aee6ac",
   "metadata": {},
   "source": [
    "#### charts display"
   ]
  },
  {
   "cell_type": "markdown",
   "id": "6363e9a3-d9c0-4070-9f00-10ccd937c4bb",
   "metadata": {},
   "source": [
    "##### Chart quarterly"
   ]
  },
  {
   "cell_type": "code",
   "execution_count": null,
   "id": "6efc75cc-6c94-4d64-b0e7-e21f6882b331",
   "metadata": {
    "tags": []
   },
   "outputs": [],
   "source": [
    "chart_input = df_quarterly\\\n",
    "                    .loc[:,['quarter','peer_set_total_display_impressions','brand_display_sov_delta_index']]\\\n",
    "                    .iloc[-4:,:]\\\n",
    "                    .astype({'peer_set_total_display_impressions':'int64','brand_display_sov_delta_index':'int'})\\\n",
    "                    .rename(\n",
    "                        columns = {\n",
    "                            'peer_set_total_display_impressions':'Peer Set Display Impressions (axis-less)',\n",
    "                            'brand_display_sov_delta_index':'Display SOV Index'\n",
    "                        }\n",
    "                    )\n",
    "chart_input"
   ]
  },
  {
   "cell_type": "code",
   "execution_count": null,
   "id": "26d449c0-9d57-4122-bc2f-e08e7ab44963",
   "metadata": {
    "tags": []
   },
   "outputs": [],
   "source": [
    "pres.change_bar_chart(\n",
    "    slide_number=2, \n",
    "    chart_name='display_chart', \n",
    "    series_names = ['Peer Set Display Impressions (axis-less)','Display SOV Index'], \n",
    "    df=chart_input, \n",
    "    x_column='quarter', \n",
    "    y_columns=['Peer Set Display Impressions (axis-less)','Display SOV Index']\n",
    ")"
   ]
  },
  {
   "cell_type": "markdown",
   "id": "1d4f6336-8557-4a13-8ab2-76c658df3ed9",
   "metadata": {},
   "source": [
    "##### Chart monthly"
   ]
  },
  {
   "cell_type": "code",
   "execution_count": null,
   "id": "2cf64251-2876-43e5-adb9-57bf5f00462b",
   "metadata": {
    "tags": []
   },
   "outputs": [],
   "source": [
    "chart_input = df_monthly\\\n",
    "                    .loc[:,['month_starting_date','peer_set_total_display_impressions','brand_display_sov_delta_index']]\\\n",
    "                    .iloc[-12:,:]\\\n",
    "                    .astype({'month_starting_date':'datetime64[ns]',\n",
    "                             'peer_set_total_display_impressions':'int64',\n",
    "                             'brand_display_sov_delta_index':'int'\n",
    "                            })\\\n",
    "                    .rename(\n",
    "                        columns = {\n",
    "                            'peer_set_total_display_impressions':'Peer Set Display Impressions (axis-less)',\n",
    "                            'brand_display_sov_delta_index':'Display SOV Index'\n",
    "                        }\n",
    "                    )\n",
    "chart_input['month_starting_date'] = chart_input.month_starting_date.dt.strftime('%b')\n",
    "chart_input\n"
   ]
  },
  {
   "cell_type": "code",
   "execution_count": null,
   "id": "ac0d62c2-f367-48a9-a1ba-3bc8dd796add",
   "metadata": {
    "tags": []
   },
   "outputs": [],
   "source": [
    "pres.change_bar_chart(\n",
    "    slide_number=1, \n",
    "    chart_name='display_chart', \n",
    "    series_names = ['Peer Set Display Impressions (axis-less)','Display SOV Index'], \n",
    "    df= chart_input, \n",
    "    x_column='month_starting_date', \n",
    "    y_columns=['Peer Set Display Impressions (axis-less)','Display SOV Index']\n",
    ")\n"
   ]
  },
  {
   "cell_type": "markdown",
   "id": "ee9f5eb8-9bca-4e2f-a645-595bd9d3f6f7",
   "metadata": {},
   "source": [
    "#### charts search"
   ]
  },
  {
   "cell_type": "markdown",
   "id": "b692e308-a818-41de-b5c6-cea579c560b4",
   "metadata": {},
   "source": [
    "##### Chart quarterly"
   ]
  },
  {
   "cell_type": "code",
   "execution_count": null,
   "id": "500f6dd1-61ac-410f-b423-4d37c612a56e",
   "metadata": {
    "tags": []
   },
   "outputs": [],
   "source": [
    "chart_input = df_quarterly\\\n",
    "                    .loc[:,['quarter','peer_set_total_search_impressions','brand_search_sov_delta_index']]\\\n",
    "                    .iloc[-4:,:]\\\n",
    "                    .astype({'peer_set_total_search_impressions':'int64','brand_search_sov_delta_index':'int'})\\\n",
    "                    .rename(\n",
    "                        columns = {\n",
    "                            'peer_set_total_search_impressions':'Peer Set Search Impressions (axis-less)',\n",
    "                            'brand_search_sov_delta_index':'Search SOV Index'\n",
    "                        }\n",
    "                    )\n",
    "chart_input"
   ]
  },
  {
   "cell_type": "code",
   "execution_count": null,
   "id": "dbc1a80d-74e9-4f61-af5d-a187c1fd610c",
   "metadata": {
    "tags": []
   },
   "outputs": [],
   "source": [
    "pres.change_bar_chart(\n",
    "    slide_number=2, \n",
    "    chart_name='search_chart', \n",
    "    series_names = ['Peer Set Search Impressions (axis-less)','Search SOV Index'], \n",
    "    df=chart_input, \n",
    "    x_column='quarter', \n",
    "    y_columns=['Peer Set Search Impressions (axis-less)','Search SOV Index']\n",
    ")"
   ]
  },
  {
   "cell_type": "markdown",
   "id": "6fb23266-ead6-4ade-97cc-e7e64f0b6f0b",
   "metadata": {},
   "source": [
    "##### Chart monthly"
   ]
  },
  {
   "cell_type": "code",
   "execution_count": null,
   "id": "97f0da7c-d14b-4f03-bf29-2987aa057fed",
   "metadata": {
    "tags": []
   },
   "outputs": [],
   "source": [
    "chart_input = df_monthly\\\n",
    "                    .loc[:,['month_starting_date','peer_set_total_search_impressions','brand_search_sov_delta_index']]\\\n",
    "                    .iloc[-12:,:]\\\n",
    "                    .astype({'month_starting_date':'datetime64[ns]',\n",
    "                             'peer_set_total_search_impressions':'int64',\n",
    "                             'brand_search_sov_delta_index':'int'\n",
    "                            })\\\n",
    "                    .rename(\n",
    "                        columns = {\n",
    "                            'peer_set_total_search_impressions':'Peer Set Search Impressions (axis-less)',\n",
    "                            'brand_search_sov_delta_index':'Search SOV Index'\n",
    "                        }\n",
    "                    )\n",
    "chart_input['month_starting_date'] = chart_input.month_starting_date.dt.strftime('%b')\n",
    "chart_input\n"
   ]
  },
  {
   "cell_type": "code",
   "execution_count": null,
   "id": "2ea561a7-4dcf-409e-b9c7-ffa84f3b114c",
   "metadata": {
    "tags": []
   },
   "outputs": [],
   "source": [
    "pres.change_bar_chart(\n",
    "    slide_number=1, \n",
    "    chart_name='search_chart', \n",
    "    series_names = ['Peer Set Search Impressions (axis-less)','Search SOV Index'], \n",
    "    df= chart_input, \n",
    "    x_column='month_starting_date', \n",
    "    y_columns=['Peer Set Search Impressions (axis-less)','Search SOV Index']\n",
    ")\n"
   ]
  },
  {
   "cell_type": "markdown",
   "id": "7de6652d-56ae-4b30-b04b-88b62a820afa",
   "metadata": {},
   "source": [
    "#### charts overlap 1"
   ]
  },
  {
   "cell_type": "markdown",
   "id": "6f3c551c-1e48-411d-9edf-dfd35d10820e",
   "metadata": {},
   "source": [
    "##### Chart monthly: sales vs glance views"
   ]
  },
  {
   "cell_type": "code",
   "execution_count": null,
   "id": "dc922d8c-06d7-42db-ad2a-dc66bac307ac",
   "metadata": {
    "tags": []
   },
   "outputs": [],
   "source": [
    "chart_input = df_monthly\\\n",
    "                    .loc[:,['month_starting_date','brand_revenue_share_delta_index','brand_gv_share_delta_index']]\\\n",
    "                    .iloc[-12:,:]\\\n",
    "                    .astype({'month_starting_date':'datetime64[ns]',\n",
    "                             'brand_revenue_share_delta_index':'int64',\n",
    "                             'brand_gv_share_delta_index':'int'\n",
    "                            })\\\n",
    "                    .rename(\n",
    "                        columns = {\n",
    "                            'brand_revenue_share_delta_index':'Sales Share Index',\n",
    "                            'brand_gv_share_delta_index':'Glance Views Share Index'\n",
    "                        }\n",
    "                    )\n",
    "chart_input['month_starting_date'] = chart_input.month_starting_date.dt.strftime('%b')\n",
    "chart_input"
   ]
  },
  {
   "cell_type": "code",
   "execution_count": null,
   "id": "f078b7d1-ec6e-4622-acca-1e06b30864e4",
   "metadata": {
    "tags": []
   },
   "outputs": [],
   "source": [
    "pres.change_bar_chart(\n",
    "    slide_number=1, \n",
    "    chart_name='overlap_chart_1', \n",
    "    series_names = ['Sales Share Index','Glance Views Share Index'], \n",
    "    df= chart_input, \n",
    "    x_column='month_starting_date', \n",
    "    y_columns=['Sales Share Index','Glance Views Share Index']\n",
    ")\n"
   ]
  },
  {
   "cell_type": "markdown",
   "id": "71a2bea3-9ec3-4da4-a366-a907e883ecfc",
   "metadata": {},
   "source": [
    "#### charts overlap 2"
   ]
  },
  {
   "cell_type": "markdown",
   "id": "7488cca1-369a-4df2-b1dd-aee0ba8d12bc",
   "metadata": {},
   "source": [
    "##### Chart monthly: glance views vs search/display"
   ]
  },
  {
   "cell_type": "code",
   "execution_count": null,
   "id": "fc1bd5a7-b5e5-4a69-8b2c-969d013429fa",
   "metadata": {
    "tags": []
   },
   "outputs": [],
   "source": [
    "chart_input = df_monthly\\\n",
    "                    .loc[:,['month_starting_date','brand_gv_share_delta_index','brand_display_sov_delta_index','brand_search_sov_delta_index']]\\\n",
    "                    .iloc[-12:,:]\\\n",
    "                    .astype({'month_starting_date':'datetime64[ns]',\n",
    "                             'brand_gv_share_delta_index':'int',\n",
    "                             'brand_display_sov_delta_index':'int',\n",
    "                             'brand_search_sov_delta_index':'int'                             \n",
    "                            })\\\n",
    "                    .rename(\n",
    "                        columns = {\n",
    "                            'brand_gv_share_delta_index':'Glance Views Share Index',\n",
    "                            'brand_display_sov_delta_index':'Display SOV Index',\n",
    "                            'brand_search_sov_delta_index':'Search SOV Index'\n",
    "                        }\n",
    "                    )\n",
    "chart_input['month_starting_date'] = chart_input.month_starting_date.dt.strftime('%b')\n",
    "chart_input"
   ]
  },
  {
   "cell_type": "code",
   "execution_count": null,
   "id": "02e36df0-3804-41f2-aabd-3e3afe1d221f",
   "metadata": {
    "tags": []
   },
   "outputs": [],
   "source": [
    "pres.change_bar_chart(\n",
    "    slide_number=1, \n",
    "    chart_name='overlap_chart_2', \n",
    "    series_names = ['Glance Views Share Index','Display SOV Index','Search SOV Index'], \n",
    "    df= chart_input, \n",
    "    x_column='month_starting_date', \n",
    "    y_columns=['Glance Views Share Index','Display SOV Index','Search SOV Index']\n",
    ")\n"
   ]
  },
  {
   "cell_type": "markdown",
   "id": "034e987c-b0f3-4f15-a61b-91414f480742",
   "metadata": {},
   "source": [
    "#### Export"
   ]
  },
  {
   "cell_type": "code",
   "execution_count": null,
   "id": "e3ab986e-d45f-48cb-85a0-3d1c876098aa",
   "metadata": {
    "tags": []
   },
   "outputs": [],
   "source": [
    "# export results\n",
    "export_path = \"./results/\" + input_dic['local'] + ' ' + input_dic['brand_name'] + '/'  + input_dic['category_friendly_name'] + '/output'\n",
    "export_file = input_dic['local']  + '_' + input_dic['brand_name'] + '_brand_performance_report_v1.pptx'\n",
    "pres.save(export_path + '/' + export_file)\n",
    "del pres"
   ]
  },
  {
   "cell_type": "markdown",
   "id": "854f9621-06d7-4540-8e09-446419f4a8f2",
   "metadata": {
    "tags": [],
    "toc-hr-collapsed": true
   },
   "source": [
    "#### 4.5.2 Section: brand performance report - version 2"
   ]
  },
  {
   "cell_type": "code",
   "execution_count": null,
   "id": "80813c4a-e66a-4a9b-8554-3567c5cacf66",
   "metadata": {
    "tags": []
   },
   "outputs": [],
   "source": [
    "# build empty dictionary\n",
    "# ppt_dic_s = {}"
   ]
  },
  {
   "cell_type": "code",
   "execution_count": null,
   "id": "53e33b53-8291-4662-870f-b581149c2d82",
   "metadata": {
    "tags": []
   },
   "outputs": [],
   "source": [
    "pres = Presentation(\"./resources/PPT_templates/template_brand_performance_report_v2.pptx\")"
   ]
  },
  {
   "cell_type": "markdown",
   "id": "87796bf1-9649-4d6d-b471-e0e90f53ef81",
   "metadata": {},
   "source": [
    "##### General"
   ]
  },
  {
   "cell_type": "code",
   "execution_count": null,
   "id": "eec4cd01-e1b9-41d4-859d-6ce39d93cd76",
   "metadata": {
    "tags": []
   },
   "outputs": [],
   "source": [
    "# calculate date objects\n",
    "start_date = datetime.today() - relativedelta(months=12)\n",
    "start_date = start_date.replace(day=1).strftime('%Y-%m-%d')\n",
    "\n",
    "end_date = datetime.today().replace(day=1) - timedelta(days=1)\n",
    "end_date = end_date.strftime('%Y-%m-%d')\n",
    "\n",
    "# Chart titles, comments, group shapes, tables!\n",
    "pres.replace({\n",
    "    \"[brand]\": input_dic['brand_name'],\n",
    "    \"[locale]\": input_dic['local'],\n",
    "    \"[start_date]\": start_date,\n",
    "    \"[end_date]\": end_date,\n",
    "    \"[category]\": input_dic['category_friendly_name'],\n",
    "    \"[root_category]\": input_dic['root_browse_node_name'],\n",
    "    \"[category_url]\": input_dic['category_url']\n",
    "})"
   ]
  },
  {
   "cell_type": "markdown",
   "id": "a5873da2-713a-4613-b07d-423674eb7731",
   "metadata": {},
   "source": [
    "##### metrics"
   ]
  },
  {
   "cell_type": "code",
   "execution_count": null,
   "id": "772861fb-5723-476f-b52b-05ddcdc3945e",
   "metadata": {
    "tags": []
   },
   "outputs": [],
   "source": [
    "# brand insights\n",
    "if (df_yearly['brand_ordered_revenue'] > 0).all():\n",
    "    # we can calculate brand yoy growth rates\n",
    "    ppt_dic_s['S.01'] = 'increased' if df_yearly['brand_revenue_delta'].iloc[1] > df_yearly['peer_set_revenue_delta'].iloc[1] else 'decreased'\n",
    "    ppt_dic_s['S.02'] = 'grew' if df_yearly['brand_revenue_delta'].iloc[1] > 0 else 'dropped'\n",
    "    ppt_dic_s['S.03'] = str(int(df_yearly['brand_revenue_delta'].iloc[1]*100))\n",
    "    ppt_dic_s['S.04'] = 'grew' if df_yearly['peer_set_revenue_delta'].iloc[1] > 0 else 'dropped'\n",
    "    ppt_dic_s['S.05'] = str(int(df_yearly['peer_set_revenue_delta'].iloc[1]*100))\n",
    "    ppt_dic_s['S.06'] = str(round(df_yearly['brand_revenue_share'].iloc[0]*100,2))\n",
    "    ppt_dic_s['S.07'] = str(round(df_yearly['brand_revenue_share'].iloc[1]*100,2))\n",
    "    ppt_dic_s['S.08'] = str(int(df_yearly['brand_revenue_share_delta'].iloc[1]*100)) if df_yearly['brand_revenue_share_delta'].iloc[1] != float('inf') else '[remove insight]'   \n",
    "elif (df_yearly['peer_set_ordered_revenue'] > 0).all():\n",
    "    # we cannot calculate brand yoy growth, can calculate peer set yoy growth\n",
    "    ppt_dic_s['S.01'] = '[remove insight]'\n",
    "    ppt_dic_s['S.02'] = '[remove insight]'\n",
    "    ppt_dic_s['S.03'] = '[remove insight]'\n",
    "    ppt_dic_s['S.04'] = 'grew' if df_yearly['peer_set_revenue_delta'].iloc[1] > 0 else 'dropped'\n",
    "    ppt_dic_s['S.05'] = str(int(df_yearly['peer_set_revenue_delta'].iloc[1]*100))\n",
    "    ppt_dic_s['S.06'] = '[remove insight]'\n",
    "    ppt_dic_s['S.07'] = '[remove insight]'\n",
    "    ppt_dic_s['S.08'] = '[remove insight]'\n",
    "else:\n",
    "    # we cannot calculate any yoy growth rates\n",
    "    ppt_dic_s['S.01'] = '[remove insight]'\n",
    "    ppt_dic_s['S.02'] = '[remove insight]'\n",
    "    ppt_dic_s['S.03'] = '[remove insight]'\n",
    "    ppt_dic_s['S.04'] = '[remove insight]'\n",
    "    ppt_dic_s['S.05'] = '[remove insight]'\n",
    "    ppt_dic_s['S.06'] = '[remove insight]'\n",
    "    ppt_dic_s['S.07'] = '[remove insight]'\n",
    "    ppt_dic_s['S.08'] = '[remove insight]'\n"
   ]
  },
  {
   "cell_type": "code",
   "execution_count": null,
   "id": "0d33aaef-b614-44e9-86c5-a3ca7a00ef0d",
   "metadata": {
    "tags": []
   },
   "outputs": [],
   "source": [
    "# replace\n",
    "pres.replace({\n",
    "    \"[S.01]\": ppt_dic_s['S.01'],\n",
    "    \"[S.02]\": ppt_dic_s['S.02'],\n",
    "    \"[S.03]\": ppt_dic_s['S.03'],\n",
    "    \"[S.04]\": ppt_dic_s['S.04'],\n",
    "    \"[S.05]\": ppt_dic_s['S.05'],\n",
    "    \"[S.06]\": ppt_dic_s['S.06'],\n",
    "    \"[S.07]\": ppt_dic_s['S.07'],\n",
    "    \"[S.08]\": ppt_dic_s['S.08']\n",
    "})"
   ]
  },
  {
   "cell_type": "markdown",
   "id": "560c5411-d980-448e-976e-31680bcab617",
   "metadata": {},
   "source": [
    "#### charts sales"
   ]
  },
  {
   "cell_type": "markdown",
   "id": "b799e801-f845-438e-b0c8-fa9bb69f34ce",
   "metadata": {},
   "source": [
    "##### Chart quarterly"
   ]
  },
  {
   "cell_type": "code",
   "execution_count": null,
   "id": "886e3f4d-0cda-4f03-9b87-4e24301a150b",
   "metadata": {
    "tags": []
   },
   "outputs": [],
   "source": [
    "chart_input = df_quarterly\\\n",
    "                    .loc[:,['quarter','peer_set_ordered_revenue','brand_revenue_share_delta_index']]\\\n",
    "                    .iloc[-4:,:]\\\n",
    "                    .astype({'peer_set_ordered_revenue':'int64','brand_revenue_share_delta_index':'int'})\\\n",
    "                    .rename(\n",
    "                        columns = {\n",
    "                            'peer_set_ordered_revenue':'Peer Set Sales Revenue (axis-less)',\n",
    "                            'brand_revenue_share_delta_index':'Sales Share Index'\n",
    "                        }\n",
    "                    )\n",
    "chart_input"
   ]
  },
  {
   "cell_type": "code",
   "execution_count": null,
   "id": "a8d41985-204b-4553-b5ea-95a7af0cb097",
   "metadata": {
    "tags": []
   },
   "outputs": [],
   "source": [
    "pres.change_bar_chart(\n",
    "    slide_number=2, \n",
    "    chart_name='sales_chart', \n",
    "    series_names = ['Peer Set Sales Revenue (axis-less)','Sales Share Index'], \n",
    "    df=chart_input, \n",
    "    x_column='quarter', \n",
    "    y_columns=['Peer Set Sales Revenue (axis-less)','Sales Share Index']\n",
    ")"
   ]
  },
  {
   "cell_type": "markdown",
   "id": "e0b27601-7eaa-4658-bed9-a11850bca65c",
   "metadata": {},
   "source": [
    "##### Chart monthly"
   ]
  },
  {
   "cell_type": "code",
   "execution_count": null,
   "id": "f01a4d1c-27a8-4f00-8855-450b7b865175",
   "metadata": {
    "tags": []
   },
   "outputs": [],
   "source": [
    "chart_input = df_monthly\\\n",
    "                    .loc[:,['month_starting_date','peer_set_ordered_revenue','brand_revenue_share_delta_index']]\\\n",
    "                    .iloc[-12:,:]\\\n",
    "                    .astype({'month_starting_date':'datetime64[ns]',\n",
    "                             'peer_set_ordered_revenue':'int64',\n",
    "                             'brand_revenue_share_delta_index':'int'\n",
    "                            })\\\n",
    "                    .rename(\n",
    "                        columns = {\n",
    "                            'peer_set_ordered_revenue':'Peer Set Sales Revenue (axis-less)',\n",
    "                            'brand_revenue_share_delta_index':'Sales Share Index'\n",
    "                        }\n",
    "                    )\n",
    "chart_input['month_starting_date'] = chart_input.month_starting_date.dt.strftime('%b')\n",
    "chart_input"
   ]
  },
  {
   "cell_type": "code",
   "execution_count": null,
   "id": "526e019f-e50d-4f05-bd4c-a4542c0192e5",
   "metadata": {
    "tags": []
   },
   "outputs": [],
   "source": [
    "pres.change_bar_chart(\n",
    "    slide_number=1, \n",
    "    chart_name='sales_chart', \n",
    "    series_names = ['Peer Set Sales Revenue (axis-less)','Sales Share Index'], \n",
    "    df= chart_input, \n",
    "    x_column='month_starting_date', \n",
    "    y_columns=['Peer Set Sales Revenue (axis-less)','Sales Share Index']\n",
    ")"
   ]
  },
  {
   "cell_type": "markdown",
   "id": "b6e0d3e7-c8fc-4d8f-b67a-eefce2db735d",
   "metadata": {},
   "source": [
    "#### charts glance views"
   ]
  },
  {
   "cell_type": "markdown",
   "id": "506241b8-6697-4eae-a92c-c3a9c4621ced",
   "metadata": {},
   "source": [
    "##### Chart quarterly"
   ]
  },
  {
   "cell_type": "code",
   "execution_count": null,
   "id": "0922717c-fc60-4a26-a62e-73e986fc5da9",
   "metadata": {
    "tags": []
   },
   "outputs": [],
   "source": [
    "chart_input = df_quarterly\\\n",
    "                    .loc[:,['quarter','peer_set_glance_views','brand_gv_share_delta_index']]\\\n",
    "                    .iloc[-4:,:]\\\n",
    "                    .astype({'peer_set_glance_views':'int64','brand_gv_share_delta_index':'int'})\\\n",
    "                    .rename(\n",
    "                        columns = {\n",
    "                            'peer_set_glance_views':'Peer Set Glance Views (axis-less)',\n",
    "                            'brand_gv_share_delta_index':'Glance Views Share Index'\n",
    "                        }\n",
    "                    )\n",
    "chart_input"
   ]
  },
  {
   "cell_type": "code",
   "execution_count": null,
   "id": "9648946e-0873-48af-bf45-77e97b0234a7",
   "metadata": {
    "tags": []
   },
   "outputs": [],
   "source": [
    "pres.change_bar_chart(\n",
    "    slide_number=2, \n",
    "    chart_name='gvs_chart', \n",
    "    series_names = ['Peer Set Glance Views (axis-less)','Glance Views Share Index'], \n",
    "    df=chart_input, \n",
    "    x_column='quarter', \n",
    "    y_columns=['Peer Set Glance Views (axis-less)','Glance Views Share Index']\n",
    ")"
   ]
  },
  {
   "cell_type": "markdown",
   "id": "e11b256f-8701-4470-9404-b485a10042a9",
   "metadata": {},
   "source": [
    "##### Chart monthly"
   ]
  },
  {
   "cell_type": "code",
   "execution_count": null,
   "id": "8b2d90a4-7bd6-441b-8e75-1b8c3649353c",
   "metadata": {
    "tags": []
   },
   "outputs": [],
   "source": [
    "chart_input = df_monthly\\\n",
    "                    .loc[:,['month_starting_date','peer_set_glance_views','brand_gv_share_delta_index']]\\\n",
    "                    .iloc[-12:,:]\\\n",
    "                    .astype({'month_starting_date':'datetime64[ns]',\n",
    "                             'peer_set_glance_views':'int64',\n",
    "                             'brand_gv_share_delta_index':'int'\n",
    "                            })\\\n",
    "                    .rename(\n",
    "                        columns = {\n",
    "                            'peer_set_glance_views':'Peer Set Glance Views (axis-less)',\n",
    "                            'brand_gv_share_delta_index':'Glance Views Share Index'\n",
    "                        }\n",
    "                    )\n",
    "chart_input['month_starting_date'] = chart_input.month_starting_date.dt.strftime('%b')\n",
    "chart_input\n"
   ]
  },
  {
   "cell_type": "code",
   "execution_count": null,
   "id": "fb8716cc-ce23-4c47-8be3-dbc24cef5b26",
   "metadata": {
    "tags": []
   },
   "outputs": [],
   "source": [
    "pres.change_bar_chart(\n",
    "    slide_number=1, \n",
    "    chart_name='gvs_chart', \n",
    "    series_names = ['Peer Set Glance Views (axis-less)','Glance Views Share Index'], \n",
    "    df= chart_input, \n",
    "    x_column='month_starting_date', \n",
    "    y_columns=['Peer Set Glance Views (axis-less)','Glance Views Share Index']\n",
    ")\n"
   ]
  },
  {
   "cell_type": "markdown",
   "id": "74b8a07c-2483-4094-8990-13e6b448b6a8",
   "metadata": {},
   "source": [
    "#### charts display"
   ]
  },
  {
   "cell_type": "markdown",
   "id": "765a60d9-790d-443e-9d09-f5fb452c42a7",
   "metadata": {},
   "source": [
    "##### Chart quarterly"
   ]
  },
  {
   "cell_type": "code",
   "execution_count": null,
   "id": "ce149650-95ee-40d3-a019-8b7b2c4c4462",
   "metadata": {
    "tags": []
   },
   "outputs": [],
   "source": [
    "chart_input = df_quarterly\\\n",
    "                    .loc[:,['quarter','peer_set_total_display_impressions','brand_display_sov_delta_index']]\\\n",
    "                    .iloc[-4:,:]\\\n",
    "                    .astype({'peer_set_total_display_impressions':'int64','brand_display_sov_delta_index':'int'})\\\n",
    "                    .rename(\n",
    "                        columns = {\n",
    "                            'peer_set_total_display_impressions':'Peer Set Display Impressions (axis-less)',\n",
    "                            'brand_display_sov_delta_index':'Display SOV Index'\n",
    "                        }\n",
    "                    )\n",
    "chart_input"
   ]
  },
  {
   "cell_type": "code",
   "execution_count": null,
   "id": "0432f0bf-a55a-441f-b1fe-b57ace41e688",
   "metadata": {
    "tags": []
   },
   "outputs": [],
   "source": [
    "pres.change_bar_chart(\n",
    "    slide_number=2, \n",
    "    chart_name='display_chart', \n",
    "    series_names = ['Peer Set Display Impressions (axis-less)','Display SOV Index'], \n",
    "    df=chart_input, \n",
    "    x_column='quarter', \n",
    "    y_columns=['Peer Set Display Impressions (axis-less)','Display SOV Index']\n",
    ")"
   ]
  },
  {
   "cell_type": "markdown",
   "id": "92773dca-48d2-440f-9738-5eab85ff8173",
   "metadata": {},
   "source": [
    "##### Chart monthly"
   ]
  },
  {
   "cell_type": "code",
   "execution_count": null,
   "id": "b355406f-3ab3-46b2-87b9-f03ee5a4124f",
   "metadata": {
    "tags": []
   },
   "outputs": [],
   "source": [
    "chart_input = df_monthly\\\n",
    "                    .loc[:,['month_starting_date','peer_set_total_display_impressions','brand_display_sov_delta_index']]\\\n",
    "                    .iloc[-12:,:]\\\n",
    "                    .astype({'month_starting_date':'datetime64[ns]',\n",
    "                             'peer_set_total_display_impressions':'int64',\n",
    "                             'brand_display_sov_delta_index':'int'\n",
    "                            })\\\n",
    "                    .rename(\n",
    "                        columns = {\n",
    "                            'peer_set_total_display_impressions':'Peer Set Display Impressions (axis-less)',\n",
    "                            'brand_display_sov_delta_index':'Display SOV Index'\n",
    "                        }\n",
    "                    )\n",
    "chart_input['month_starting_date'] = chart_input.month_starting_date.dt.strftime('%b')\n",
    "chart_input\n"
   ]
  },
  {
   "cell_type": "code",
   "execution_count": null,
   "id": "b8c62ef2-a218-4547-8c33-d1a5cc8cf3f9",
   "metadata": {
    "tags": []
   },
   "outputs": [],
   "source": [
    "pres.change_bar_chart(\n",
    "    slide_number=1, \n",
    "    chart_name='display_chart', \n",
    "    series_names = ['Peer Set Display Impressions (axis-less)','Display SOV Index'], \n",
    "    df= chart_input, \n",
    "    x_column='month_starting_date', \n",
    "    y_columns=['Peer Set Display Impressions (axis-less)','Display SOV Index']\n",
    ")\n"
   ]
  },
  {
   "cell_type": "markdown",
   "id": "5664a177-0f10-4667-81bf-1636d6d2f8af",
   "metadata": {},
   "source": [
    "#### charts search"
   ]
  },
  {
   "cell_type": "markdown",
   "id": "b8621175-016d-4df4-8151-b2713897910f",
   "metadata": {},
   "source": [
    "##### Chart quarterly"
   ]
  },
  {
   "cell_type": "code",
   "execution_count": null,
   "id": "58f0988e-b4c1-4159-9a11-8e43e1c91a24",
   "metadata": {
    "tags": []
   },
   "outputs": [],
   "source": [
    "chart_input = df_quarterly\\\n",
    "                    .loc[:,['quarter','peer_set_total_search_impressions','brand_search_sov_delta_index']]\\\n",
    "                    .iloc[-4:,:]\\\n",
    "                    .astype({'peer_set_total_search_impressions':'int64','brand_search_sov_delta_index':'int'})\\\n",
    "                    .rename(\n",
    "                        columns = {\n",
    "                            'peer_set_total_search_impressions':'Peer Set Search Impressions (axis-less)',\n",
    "                            'brand_search_sov_delta_index':'Search SOV Index'\n",
    "                        }\n",
    "                    )\n",
    "chart_input"
   ]
  },
  {
   "cell_type": "code",
   "execution_count": null,
   "id": "5237f788-7ed3-444b-b73d-b2fbe5abdfc4",
   "metadata": {
    "tags": []
   },
   "outputs": [],
   "source": [
    "pres.change_bar_chart(\n",
    "    slide_number=2, \n",
    "    chart_name='search_chart', \n",
    "    series_names = ['Peer Set Search Impressions (axis-less)','Search SOV Index'], \n",
    "    df=chart_input, \n",
    "    x_column='quarter', \n",
    "    y_columns=['Peer Set Search Impressions (axis-less)','Search SOV Index']\n",
    ")"
   ]
  },
  {
   "cell_type": "markdown",
   "id": "f991bf72-8942-4e9b-afa8-444b140acee8",
   "metadata": {},
   "source": [
    "##### Chart monthly"
   ]
  },
  {
   "cell_type": "code",
   "execution_count": null,
   "id": "e54b3e10-939e-4804-bfac-1e88567cb2d7",
   "metadata": {
    "tags": []
   },
   "outputs": [],
   "source": [
    "chart_input = df_monthly\\\n",
    "                    .loc[:,['month_starting_date','peer_set_total_search_impressions','brand_search_sov_delta_index']]\\\n",
    "                    .iloc[-12:,:]\\\n",
    "                    .astype({'month_starting_date':'datetime64[ns]',\n",
    "                             'peer_set_total_search_impressions':'int64',\n",
    "                             'brand_search_sov_delta_index':'int'\n",
    "                            })\\\n",
    "                    .rename(\n",
    "                        columns = {\n",
    "                            'peer_set_total_search_impressions':'Peer Set Search Impressions (axis-less)',\n",
    "                            'brand_search_sov_delta_index':'Search SOV Index'\n",
    "                        }\n",
    "                    )\n",
    "chart_input['month_starting_date'] = chart_input.month_starting_date.dt.strftime('%b')\n",
    "chart_input\n"
   ]
  },
  {
   "cell_type": "code",
   "execution_count": null,
   "id": "683edbee-1f9e-47d2-8267-9640498a6525",
   "metadata": {
    "tags": []
   },
   "outputs": [],
   "source": [
    "pres.change_bar_chart(\n",
    "    slide_number=1, \n",
    "    chart_name='search_chart', \n",
    "    series_names = ['Peer Set Search Impressions (axis-less)','Search SOV Index'], \n",
    "    df= chart_input, \n",
    "    x_column='month_starting_date', \n",
    "    y_columns=['Peer Set Search Impressions (axis-less)','Search SOV Index']\n",
    ")\n"
   ]
  },
  {
   "cell_type": "markdown",
   "id": "2d8982bc-580d-4d77-9a5e-5db1374dcf39",
   "metadata": {},
   "source": [
    "#### charts overlap 1"
   ]
  },
  {
   "cell_type": "markdown",
   "id": "fbdf7881-87ec-48ee-99e0-f9db5b94f201",
   "metadata": {},
   "source": [
    "##### Chart monthly: sales vs glance views"
   ]
  },
  {
   "cell_type": "code",
   "execution_count": null,
   "id": "182cdba1-9f21-4e16-b8ff-c9011b09af34",
   "metadata": {
    "tags": []
   },
   "outputs": [],
   "source": [
    "chart_input = df_monthly\\\n",
    "                    .loc[:,['month_starting_date','brand_revenue_share_delta_index','brand_gv_share_delta_index']]\\\n",
    "                    .iloc[-12:,:]\\\n",
    "                    .astype({'month_starting_date':'datetime64[ns]',\n",
    "                             'brand_revenue_share_delta_index':'int64',\n",
    "                             'brand_gv_share_delta_index':'int'\n",
    "                            })\\\n",
    "                    .rename(\n",
    "                        columns = {\n",
    "                            'brand_revenue_share_delta_index':'Sales Share Index',\n",
    "                            'brand_gv_share_delta_index':'Glance Views Share Index'\n",
    "                        }\n",
    "                    )\n",
    "chart_input['month_starting_date'] = chart_input.month_starting_date.dt.strftime('%b')\n",
    "chart_input"
   ]
  },
  {
   "cell_type": "code",
   "execution_count": null,
   "id": "b0f55cb2-e9f7-469f-801a-be7bb297f377",
   "metadata": {
    "tags": []
   },
   "outputs": [],
   "source": [
    "pres.change_bar_chart(\n",
    "    slide_number=1, \n",
    "    chart_name='overlap_chart_1', \n",
    "    series_names = ['Sales Share Index','Glance Views Share Index'], \n",
    "    df= chart_input, \n",
    "    x_column='month_starting_date', \n",
    "    y_columns=['Sales Share Index','Glance Views Share Index']\n",
    ")\n"
   ]
  },
  {
   "cell_type": "markdown",
   "id": "088f8955-f427-430c-ae4f-fe93b23742f0",
   "metadata": {},
   "source": [
    "#### charts overlap 2"
   ]
  },
  {
   "cell_type": "markdown",
   "id": "1f782c68-41ca-4686-9f29-4f8b37a97e69",
   "metadata": {},
   "source": [
    "##### Chart monthly: glance views vs search/display"
   ]
  },
  {
   "cell_type": "code",
   "execution_count": null,
   "id": "cc42e362-c558-4a82-9d70-10a3b9649b66",
   "metadata": {
    "tags": []
   },
   "outputs": [],
   "source": [
    "chart_input = df_monthly\\\n",
    "                    .loc[:,['month_starting_date','brand_gv_share_delta_index','brand_display_sov_delta_index','brand_search_sov_delta_index']]\\\n",
    "                    .iloc[-12:,:]\\\n",
    "                    .astype({'month_starting_date':'datetime64[ns]',\n",
    "                             'brand_gv_share_delta_index':'int',\n",
    "                             'brand_display_sov_delta_index':'int',\n",
    "                             'brand_search_sov_delta_index':'int'                             \n",
    "                            })\\\n",
    "                    .rename(\n",
    "                        columns = {\n",
    "                            'brand_gv_share_delta_index':'Glance Views Share Index',\n",
    "                            'brand_display_sov_delta_index':'Display SOV Index',\n",
    "                            'brand_search_sov_delta_index':'Search SOV Index'\n",
    "                        }\n",
    "                    )\n",
    "chart_input['month_starting_date'] = chart_input.month_starting_date.dt.strftime('%b')\n",
    "chart_input"
   ]
  },
  {
   "cell_type": "code",
   "execution_count": null,
   "id": "d3f3acde-3d0e-40b3-9ffd-fb5c552ca1f6",
   "metadata": {
    "tags": []
   },
   "outputs": [],
   "source": [
    "pres.change_bar_chart(\n",
    "    slide_number=1, \n",
    "    chart_name='overlap_chart_2', \n",
    "    series_names = ['Glance Views Share Index','Display SOV Index','Search SOV Index'], \n",
    "    df= chart_input, \n",
    "    x_column='month_starting_date', \n",
    "    y_columns=['Glance Views Share Index','Display SOV Index','Search SOV Index']\n",
    ")\n"
   ]
  },
  {
   "cell_type": "markdown",
   "id": "5d8841ae-014e-46c5-a4cd-919abea8b410",
   "metadata": {},
   "source": [
    "#### Export"
   ]
  },
  {
   "cell_type": "code",
   "execution_count": null,
   "id": "75d6e793-c5a9-4b47-a888-e8c7efdcf467",
   "metadata": {
    "tags": []
   },
   "outputs": [],
   "source": [
    "## export results\n",
    "export_path = \"./results/\" + input_dic['local'] + ' ' + input_dic['brand_name'] + '/'  + input_dic['category_friendly_name'] + '/output'\n",
    "export_file = input_dic['local']  + '_' + input_dic['brand_name'] + '_brand_performance_report_v2.pptx'\n",
    "pres.save(export_path + '/' + export_file)\n",
    "del pres"
   ]
  }
 ],
 "metadata": {
  "kernelspec": {
   "display_name": "Python 3 (ipykernel)",
   "language": "python",
   "name": "python3"
  },
  "language_info": {
   "codemirror_mode": {
    "name": "ipython",
    "version": 3
   },
   "file_extension": ".py",
   "mimetype": "text/x-python",
   "name": "python",
   "nbconvert_exporter": "python",
   "pygments_lexer": "ipython3",
   "version": "3.10.12"
  }
 },
 "nbformat": 4,
 "nbformat_minor": 5
}
